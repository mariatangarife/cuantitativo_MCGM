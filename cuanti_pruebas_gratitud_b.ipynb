{
 "cells": [
  {
   "cell_type": "markdown",
   "metadata": {},
   "source": [
    "# Procesamiento de datos para las bases del estudio cuantitativo"
   ]
  },
  {
   "cell_type": "markdown",
   "metadata": {},
   "source": [
    "# Tabla de contenidos"
   ]
  },
  {
   "cell_type": "markdown",
   "metadata": {},
   "source": [
    "<a id ='Ir a inicio'></a>"
   ]
  },
  {
   "cell_type": "markdown",
   "metadata": {},
   "source": [
    "<a href='#base'> Cargar base de datos </a>"
   ]
  },
  {
   "cell_type": "markdown",
   "metadata": {},
   "source": [
    "<a href='#Procesamiento de bases de datos'> Procesamiento de las bases de datos </a>"
   ]
  },
  {
   "cell_type": "markdown",
   "metadata": {},
   "source": [
    "<a href='#descriptivos'> Estadísticos descriptivos </a>\n"
   ]
  },
  {
   "cell_type": "markdown",
   "metadata": {},
   "source": [
    "<a href='#Analisis entre pruebas'> Análisis entre pruebas </a>\n"
   ]
  },
  {
   "cell_type": "markdown",
   "metadata": {},
   "source": [
    "En caso de que queramos descargar alguna de las bases de datos que se han generado, podemos bajarlas por medio del código de abajo:"
   ]
  },
  {
   "cell_type": "code",
   "execution_count": null,
   "metadata": {},
   "outputs": [],
   "source": [
    "# csv_download_link(scalerpd, 'rescaled_newX.csv') "
   ]
  },
  {
   "cell_type": "markdown",
   "metadata": {},
   "source": [
    "_____________________"
   ]
  },
  {
   "cell_type": "code",
   "execution_count": 657,
   "metadata": {},
   "outputs": [],
   "source": [
    "import numpy as np\n",
    "import pandas as pd\n",
    "import matplotlib.pyplot as plt\n",
    "import seaborn as sns\n",
    "from matplotlib import style\n",
    "from scipy import stats\n",
    "import researchpy as rp\n",
    "import statsmodels.api as sm\n",
    "from statsmodels.formula.api import ols\n",
    "import pingouin as pg\n",
    "from bioinfokit.analys import stat\n",
    "import csv\n",
    "import pingouin as pg\n",
    "from sklearn.preprocessing import Normalizer\n",
    "import matplotlib.ticker as mtick\n",
    "from sklearn.preprocessing import MinMaxScaler"
   ]
  },
  {
   "cell_type": "code",
   "execution_count": 511,
   "metadata": {},
   "outputs": [],
   "source": [
    "def sem(sd, n):\n",
    "    se = sd /np.sqrt(n)\n",
    "    return se\n",
    "\n",
    "def ci95 (mean, sem, z=1.960):\n",
    "    low = mean - z*sem\n",
    "    high = mean + z*sem\n",
    "    return [low, high]\n",
    "\n",
    "#for dataset\n",
    "\n",
    "def ci951 (data, z=1.960):\n",
    "    sem1 = np.nanstd(data)/np.sqrt(len(data))\n",
    "    mean = np.nanmean(data)\n",
    "    low = mean - z*sem1\n",
    "    high = mean + z*sem1\n",
    "    return [low, high]\n",
    "    \n",
    "def sex_groups(series):\n",
    "    if series == 2.0:\n",
    "        return \"Niña\"\n",
    "    elif series == 1.0:\n",
    "        return \"Niño\"\n",
    "    \n",
    "def csv_download_link(df, csv_file_name, delete_prompt=True):\n",
    "    \"\"\"Display a download link to load a data frame as csv from within a Jupyter notebook\"\"\"\n",
    "    df.to_csv(csv_file_name, index=False)\n",
    "    from IPython.display import FileLink\n",
    "    display(FileLink(csv_file_name))\n",
    "    if delete_prompt:\n",
    "        a = input('Press enter to delete the file after you have downloaded it.')\n",
    "        import os\n",
    "        os.remove(csv_file_name)\n",
    "    \n",
    "#usando la documentación, rescato estas funcoines:   \n",
    "\n",
    "def cronbach_alpha(df):\n",
    "    # 1. Transform the df into a correlation matrix\n",
    "    df_corr = df.corr()\n",
    "    \n",
    "    # 2.1 Calculate N\n",
    "    # The number of variables equals the number of columns in the df\n",
    "    N = df.shape[1]\n",
    "    \n",
    "    # 2.2 Calculate R\n",
    "    # For this, we'll loop through the columns and append every\n",
    "    # relevant correlation to an array calles \"r_s\". Then, we'll\n",
    "    # calculate the mean of \"r_s\"\n",
    "    rs = np.array([])\n",
    "    for i, col in enumerate(df_corr.columns):\n",
    "        sum_ = df_corr[col][i+1:].values\n",
    "        rs = np.append(sum_, rs)\n",
    "    mean_r = np.mean(rs)\n",
    "    \n",
    "   # 3. Use the formula to calculate Cronbach's Alpha \n",
    "    cronbach_alpha = (N * mean_r) / (1 + (N - 1) * mean_r)\n",
    "    return cronbach_alpha\n",
    "\n",
    "\n",
    "def percentage_of_area_under_std_normal_curve_from_zcore(z_score):\n",
    "    return .5 * (math.erf(z_score / 2 ** .5) + 1)\n",
    "\n",
    "def calculate_kmo(x):\n",
    "    \"\"\"\n",
    "    Calculate the Kaiser-Meyer-Olkin criterion\n",
    "    for items and overall. This statistic represents\n",
    "    the degree to which each observed variable is\n",
    "    predicted, without error, by the other variables\n",
    "    in the dataset. In general, a KMO < 0.6 is considered\n",
    "    inadequate.\n",
    "\n",
    "    Parameters\n",
    "    ----------\n",
    "    x : array-like\n",
    "        The array from which to calculate KMOs.\n",
    "\n",
    "    Returns\n",
    "    -------\n",
    "    kmo_per_variable : numpy array\n",
    "        The KMO score per item.\n",
    "    kmo_total : float\n",
    "        The KMO score overall.\n",
    "    \"\"\"\n",
    "\n",
    "    # calculate the partial correlations\n",
    "    partial_corr = partial_correlations(x)\n",
    "\n",
    "    # calcualte the pair-wise correlations\n",
    "    x_corr = corr(x)\n",
    "\n",
    "    # fill matrix diagonals with zeros\n",
    "    # and square all elements\n",
    "    np.fill_diagonal(x_corr, 0)\n",
    "    np.fill_diagonal(partial_corr, 0)\n",
    "\n",
    "    partial_corr = partial_corr**2\n",
    "    x_corr = x_corr**2\n",
    "\n",
    "    # calculate KMO per item\n",
    "    partial_corr_sum = np.sum(partial_corr, axis=0)\n",
    "    corr_sum = np.sum(x_corr, axis=0)\n",
    "    kmo_per_item = corr_sum / (corr_sum + partial_corr_sum)\n",
    "\n",
    "    # calculate KMO overall\n",
    "    corr_sum_total = np.sum(x_corr)\n",
    "    partial_corr_sum_total = np.sum(partial_corr)\n",
    "    kmo_total = corr_sum_total / (corr_sum_total + partial_corr_sum_total)\n",
    "    return kmo_per_item, kmo_total\n",
    "\n",
    "\n",
    "def calculate_bartlett_sphericity(x):\n",
    "    \"\"\"\n",
    "    Test the hypothesis that the correlation matrix\n",
    "    is equal to the identity matrix.identity\n",
    "\n",
    "    H0: The matrix of population correlations is equal to I.\n",
    "    H1: The matrix of population correlations is not equal to I.\n",
    "\n",
    "    The formula for Bartlett's Sphericity test is:\n",
    "\n",
    "    .. math:: -1 * (n - 1 - ((2p + 5) / 6)) * ln(det(R))\n",
    "\n",
    "    Where R det(R) is the determinant of the correlation matrix,\n",
    "    and p is the number of variables.\n",
    "\n",
    "    Parameters\n",
    "    ----------\n",
    "    x : array-like\n",
    "        The array from which to calculate sphericity.\n",
    "\n",
    "    Returns\n",
    "    -------\n",
    "    statistic : float\n",
    "        The chi-square value.\n",
    "    p_value : float\n",
    "        The associated p-value for the test.\n",
    "    \"\"\"\n",
    "    n, p = x.shape\n",
    "    x_corr = corr(x)\n",
    "\n",
    "    corr_det = np.linalg.det(x_corr)\n",
    "    statistic = -np.log(corr_det) * (n - 1 - (2 * p + 5) / 6)\n",
    "    degrees_of_freedom = p * (p - 1) / 2\n",
    "    p_value = chi2.sf(statistic, degrees_of_freedom)\n",
    "    return statistic, p_value"
   ]
  },
  {
   "cell_type": "markdown",
   "metadata": {},
   "source": [
    "______________"
   ]
  },
  {
   "cell_type": "markdown",
   "metadata": {},
   "source": [
    "<a id ='base'></a>"
   ]
  },
  {
   "cell_type": "markdown",
   "metadata": {},
   "source": [
    "# Cargar base de datos"
   ]
  },
  {
   "cell_type": "markdown",
   "metadata": {},
   "source": [
    "Cargo la base de datos que se encuentra guardada en la carpeta. \n",
    "\n",
    "A esta base la limpio de la siguiente manera: \n",
    "\n",
    "(1) Los valores perdidos o NaN, no me interesan porque no impiden que pueda anañizar la base, así que no los manipulo. \n",
    "\n",
    "\n",
    "(2) Elimino los espacios o líneas adicionales usando la función de 'replace', pues esto me permite converir mis datos de 'string' a 'numeric'. \n",
    "\n",
    "(3) Separo la base por Sexo (en caso de que sea necesario). "
   ]
  },
  {
   "cell_type": "code",
   "execution_count": 103,
   "metadata": {},
   "outputs": [],
   "source": [
    "df = pd.read_csv('pochito.csv', sep = \",\", encoding = 'Latin-1')"
   ]
  },
  {
   "cell_type": "code",
   "execution_count": 239,
   "metadata": {
    "scrolled": true
   },
   "outputs": [
    {
     "data": {
      "text/html": [
       "<div>\n",
       "<style scoped>\n",
       "    .dataframe tbody tr th:only-of-type {\n",
       "        vertical-align: middle;\n",
       "    }\n",
       "\n",
       "    .dataframe tbody tr th {\n",
       "        vertical-align: top;\n",
       "    }\n",
       "\n",
       "    .dataframe thead th {\n",
       "        text-align: right;\n",
       "    }\n",
       "</style>\n",
       "<table border=\"1\" class=\"dataframe\">\n",
       "  <thead>\n",
       "    <tr style=\"text-align: right;\">\n",
       "      <th></th>\n",
       "      <th>Progreso</th>\n",
       "      <th>Duracion</th>\n",
       "      <th>Termina</th>\n",
       "      <th>Colegio</th>\n",
       "      <th>Sexo</th>\n",
       "      <th>Edad</th>\n",
       "      <th>Curso</th>\n",
       "      <th>Codigo</th>\n",
       "      <th>MCGM_1</th>\n",
       "      <th>MCGM_2</th>\n",
       "      <th>...</th>\n",
       "      <th>PANAS.20</th>\n",
       "      <th>PANAS.21</th>\n",
       "      <th>PANAS.22</th>\n",
       "      <th>EDESI</th>\n",
       "      <th>EDESI.1</th>\n",
       "      <th>EDESI.2</th>\n",
       "      <th>EDESI.3</th>\n",
       "      <th>EDESI.4</th>\n",
       "      <th>EDESI.5</th>\n",
       "      <th>EDESI.6</th>\n",
       "    </tr>\n",
       "  </thead>\n",
       "  <tbody>\n",
       "    <tr>\n",
       "      <td>0</td>\n",
       "      <td>100.0</td>\n",
       "      <td>1177.0</td>\n",
       "      <td>True</td>\n",
       "      <td>1.0</td>\n",
       "      <td>1.0</td>\n",
       "      <td>11.0</td>\n",
       "      <td>6.0</td>\n",
       "      <td>8180360.0</td>\n",
       "      <td>5.0</td>\n",
       "      <td>5.0</td>\n",
       "      <td>...</td>\n",
       "      <td>NaN</td>\n",
       "      <td>NaN</td>\n",
       "      <td>NaN</td>\n",
       "      <td>NaN</td>\n",
       "      <td>NaN</td>\n",
       "      <td>NaN</td>\n",
       "      <td>NaN</td>\n",
       "      <td>NaN</td>\n",
       "      <td>NaN</td>\n",
       "      <td>NaN</td>\n",
       "    </tr>\n",
       "    <tr>\n",
       "      <td>1</td>\n",
       "      <td>100.0</td>\n",
       "      <td>2407.0</td>\n",
       "      <td>True</td>\n",
       "      <td>1.0</td>\n",
       "      <td>1.0</td>\n",
       "      <td>11.0</td>\n",
       "      <td>6.0</td>\n",
       "      <td>8210064.0</td>\n",
       "      <td>5.0</td>\n",
       "      <td>5.0</td>\n",
       "      <td>...</td>\n",
       "      <td>NaN</td>\n",
       "      <td>NaN</td>\n",
       "      <td>NaN</td>\n",
       "      <td>NaN</td>\n",
       "      <td>NaN</td>\n",
       "      <td>NaN</td>\n",
       "      <td>NaN</td>\n",
       "      <td>NaN</td>\n",
       "      <td>NaN</td>\n",
       "      <td>NaN</td>\n",
       "    </tr>\n",
       "    <tr>\n",
       "      <td>2</td>\n",
       "      <td>100.0</td>\n",
       "      <td>1623.0</td>\n",
       "      <td>True</td>\n",
       "      <td>1.0</td>\n",
       "      <td>1.0</td>\n",
       "      <td>9.0</td>\n",
       "      <td>4.0</td>\n",
       "      <td>8210473.0</td>\n",
       "      <td>4.0</td>\n",
       "      <td>5.0</td>\n",
       "      <td>...</td>\n",
       "      <td>NaN</td>\n",
       "      <td>NaN</td>\n",
       "      <td>NaN</td>\n",
       "      <td>NaN</td>\n",
       "      <td>NaN</td>\n",
       "      <td>NaN</td>\n",
       "      <td>NaN</td>\n",
       "      <td>NaN</td>\n",
       "      <td>NaN</td>\n",
       "      <td>NaN</td>\n",
       "    </tr>\n",
       "    <tr>\n",
       "      <td>3</td>\n",
       "      <td>100.0</td>\n",
       "      <td>1111.0</td>\n",
       "      <td>True</td>\n",
       "      <td>1.0</td>\n",
       "      <td>1.0</td>\n",
       "      <td>9.0</td>\n",
       "      <td>4.0</td>\n",
       "      <td>8170350.0</td>\n",
       "      <td>5.0</td>\n",
       "      <td>5.0</td>\n",
       "      <td>...</td>\n",
       "      <td>3.0</td>\n",
       "      <td>3.0</td>\n",
       "      <td>3.0</td>\n",
       "      <td>3.0</td>\n",
       "      <td>1.0</td>\n",
       "      <td>1.0</td>\n",
       "      <td>1.0</td>\n",
       "      <td>1.0</td>\n",
       "      <td>1.0</td>\n",
       "      <td>1.0</td>\n",
       "    </tr>\n",
       "    <tr>\n",
       "      <td>4</td>\n",
       "      <td>100.0</td>\n",
       "      <td>1225.0</td>\n",
       "      <td>True</td>\n",
       "      <td>1.0</td>\n",
       "      <td>1.0</td>\n",
       "      <td>9.0</td>\n",
       "      <td>4.0</td>\n",
       "      <td>8170243.0</td>\n",
       "      <td>5.0</td>\n",
       "      <td>4.0</td>\n",
       "      <td>...</td>\n",
       "      <td>3.0</td>\n",
       "      <td>3.0</td>\n",
       "      <td>3.0</td>\n",
       "      <td>3.0</td>\n",
       "      <td>1.0</td>\n",
       "      <td>1.0</td>\n",
       "      <td>1.0</td>\n",
       "      <td>0.0</td>\n",
       "      <td>1.0</td>\n",
       "      <td>1.0</td>\n",
       "    </tr>\n",
       "  </tbody>\n",
       "</table>\n",
       "<p>5 rows × 220 columns</p>\n",
       "</div>"
      ],
      "text/plain": [
       "   Progreso  Duracion Termina  Colegio  Sexo  Edad  Curso     Codigo  MCGM_1  \\\n",
       "0     100.0    1177.0    True      1.0   1.0  11.0    6.0  8180360.0     5.0   \n",
       "1     100.0    2407.0    True      1.0   1.0  11.0    6.0  8210064.0     5.0   \n",
       "2     100.0    1623.0    True      1.0   1.0   9.0    4.0  8210473.0     4.0   \n",
       "3     100.0    1111.0    True      1.0   1.0   9.0    4.0  8170350.0     5.0   \n",
       "4     100.0    1225.0    True      1.0   1.0   9.0    4.0  8170243.0     5.0   \n",
       "\n",
       "   MCGM_2  ...  PANAS.20  PANAS.21  PANAS.22  EDESI  EDESI.1  EDESI.2  \\\n",
       "0     5.0  ...       NaN       NaN       NaN    NaN      NaN      NaN   \n",
       "1     5.0  ...       NaN       NaN       NaN    NaN      NaN      NaN   \n",
       "2     5.0  ...       NaN       NaN       NaN    NaN      NaN      NaN   \n",
       "3     5.0  ...       3.0       3.0       3.0    3.0      1.0      1.0   \n",
       "4     4.0  ...       3.0       3.0       3.0    3.0      1.0      1.0   \n",
       "\n",
       "   EDESI.3  EDESI.4  EDESI.5  EDESI.6  \n",
       "0      NaN      NaN      NaN      NaN  \n",
       "1      NaN      NaN      NaN      NaN  \n",
       "2      NaN      NaN      NaN      NaN  \n",
       "3      1.0      1.0      1.0      1.0  \n",
       "4      1.0      0.0      1.0      1.0  \n",
       "\n",
       "[5 rows x 220 columns]"
      ]
     },
     "execution_count": 239,
     "metadata": {},
     "output_type": "execute_result"
    }
   ],
   "source": [
    "df.head()"
   ]
  },
  {
   "cell_type": "code",
   "execution_count": 105,
   "metadata": {},
   "outputs": [],
   "source": [
    "#Elimino espacios entre las celdas\n",
    "table = df.replace(r'\\n',  '', regex=True)"
   ]
  },
  {
   "cell_type": "markdown",
   "metadata": {},
   "source": [
    "<a id = 'Procesamiento de bases de datos'></a>"
   ]
  },
  {
   "cell_type": "code",
   "execution_count": 106,
   "metadata": {
    "scrolled": true
   },
   "outputs": [
    {
     "data": {
      "text/html": [
       "<div>\n",
       "<style scoped>\n",
       "    .dataframe tbody tr th:only-of-type {\n",
       "        vertical-align: middle;\n",
       "    }\n",
       "\n",
       "    .dataframe tbody tr th {\n",
       "        vertical-align: top;\n",
       "    }\n",
       "\n",
       "    .dataframe thead th {\n",
       "        text-align: right;\n",
       "    }\n",
       "</style>\n",
       "<table border=\"1\" class=\"dataframe\">\n",
       "  <thead>\n",
       "    <tr style=\"text-align: right;\">\n",
       "      <th></th>\n",
       "      <th>Progreso</th>\n",
       "      <th>Duracion</th>\n",
       "      <th>Termina</th>\n",
       "      <th>Colegio</th>\n",
       "      <th>Sexo</th>\n",
       "      <th>Edad</th>\n",
       "      <th>Curso</th>\n",
       "      <th>Codigo</th>\n",
       "      <th>MCGM_1</th>\n",
       "      <th>MCGM_2</th>\n",
       "      <th>...</th>\n",
       "      <th>PANAS.20</th>\n",
       "      <th>PANAS.21</th>\n",
       "      <th>PANAS.22</th>\n",
       "      <th>EDESI</th>\n",
       "      <th>EDESI.1</th>\n",
       "      <th>EDESI.2</th>\n",
       "      <th>EDESI.3</th>\n",
       "      <th>EDESI.4</th>\n",
       "      <th>EDESI.5</th>\n",
       "      <th>EDESI.6</th>\n",
       "    </tr>\n",
       "  </thead>\n",
       "  <tbody>\n",
       "    <tr>\n",
       "      <td>0</td>\n",
       "      <td>100.0</td>\n",
       "      <td>1177.0</td>\n",
       "      <td>True</td>\n",
       "      <td>1.0</td>\n",
       "      <td>1.0</td>\n",
       "      <td>11.0</td>\n",
       "      <td>6.0</td>\n",
       "      <td>8180360.0</td>\n",
       "      <td>5.0</td>\n",
       "      <td>5.0</td>\n",
       "      <td>...</td>\n",
       "      <td>NaN</td>\n",
       "      <td>NaN</td>\n",
       "      <td>NaN</td>\n",
       "      <td>NaN</td>\n",
       "      <td>NaN</td>\n",
       "      <td>NaN</td>\n",
       "      <td>NaN</td>\n",
       "      <td>NaN</td>\n",
       "      <td>NaN</td>\n",
       "      <td>NaN</td>\n",
       "    </tr>\n",
       "    <tr>\n",
       "      <td>1</td>\n",
       "      <td>100.0</td>\n",
       "      <td>2407.0</td>\n",
       "      <td>True</td>\n",
       "      <td>1.0</td>\n",
       "      <td>1.0</td>\n",
       "      <td>11.0</td>\n",
       "      <td>6.0</td>\n",
       "      <td>8210064.0</td>\n",
       "      <td>5.0</td>\n",
       "      <td>5.0</td>\n",
       "      <td>...</td>\n",
       "      <td>NaN</td>\n",
       "      <td>NaN</td>\n",
       "      <td>NaN</td>\n",
       "      <td>NaN</td>\n",
       "      <td>NaN</td>\n",
       "      <td>NaN</td>\n",
       "      <td>NaN</td>\n",
       "      <td>NaN</td>\n",
       "      <td>NaN</td>\n",
       "      <td>NaN</td>\n",
       "    </tr>\n",
       "    <tr>\n",
       "      <td>2</td>\n",
       "      <td>100.0</td>\n",
       "      <td>1623.0</td>\n",
       "      <td>True</td>\n",
       "      <td>1.0</td>\n",
       "      <td>1.0</td>\n",
       "      <td>9.0</td>\n",
       "      <td>4.0</td>\n",
       "      <td>8210473.0</td>\n",
       "      <td>4.0</td>\n",
       "      <td>5.0</td>\n",
       "      <td>...</td>\n",
       "      <td>NaN</td>\n",
       "      <td>NaN</td>\n",
       "      <td>NaN</td>\n",
       "      <td>NaN</td>\n",
       "      <td>NaN</td>\n",
       "      <td>NaN</td>\n",
       "      <td>NaN</td>\n",
       "      <td>NaN</td>\n",
       "      <td>NaN</td>\n",
       "      <td>NaN</td>\n",
       "    </tr>\n",
       "    <tr>\n",
       "      <td>3</td>\n",
       "      <td>100.0</td>\n",
       "      <td>1111.0</td>\n",
       "      <td>True</td>\n",
       "      <td>1.0</td>\n",
       "      <td>1.0</td>\n",
       "      <td>9.0</td>\n",
       "      <td>4.0</td>\n",
       "      <td>8170350.0</td>\n",
       "      <td>5.0</td>\n",
       "      <td>5.0</td>\n",
       "      <td>...</td>\n",
       "      <td>3.0</td>\n",
       "      <td>3.0</td>\n",
       "      <td>3.0</td>\n",
       "      <td>3.0</td>\n",
       "      <td>1.0</td>\n",
       "      <td>1.0</td>\n",
       "      <td>1.0</td>\n",
       "      <td>1.0</td>\n",
       "      <td>1.0</td>\n",
       "      <td>1.0</td>\n",
       "    </tr>\n",
       "    <tr>\n",
       "      <td>4</td>\n",
       "      <td>100.0</td>\n",
       "      <td>1225.0</td>\n",
       "      <td>True</td>\n",
       "      <td>1.0</td>\n",
       "      <td>1.0</td>\n",
       "      <td>9.0</td>\n",
       "      <td>4.0</td>\n",
       "      <td>8170243.0</td>\n",
       "      <td>5.0</td>\n",
       "      <td>4.0</td>\n",
       "      <td>...</td>\n",
       "      <td>3.0</td>\n",
       "      <td>3.0</td>\n",
       "      <td>3.0</td>\n",
       "      <td>3.0</td>\n",
       "      <td>1.0</td>\n",
       "      <td>1.0</td>\n",
       "      <td>1.0</td>\n",
       "      <td>0.0</td>\n",
       "      <td>1.0</td>\n",
       "      <td>1.0</td>\n",
       "    </tr>\n",
       "  </tbody>\n",
       "</table>\n",
       "<p>5 rows × 220 columns</p>\n",
       "</div>"
      ],
      "text/plain": [
       "   Progreso  Duracion Termina  Colegio  Sexo  Edad  Curso     Codigo  MCGM_1  \\\n",
       "0     100.0    1177.0    True      1.0   1.0  11.0    6.0  8180360.0     5.0   \n",
       "1     100.0    2407.0    True      1.0   1.0  11.0    6.0  8210064.0     5.0   \n",
       "2     100.0    1623.0    True      1.0   1.0   9.0    4.0  8210473.0     4.0   \n",
       "3     100.0    1111.0    True      1.0   1.0   9.0    4.0  8170350.0     5.0   \n",
       "4     100.0    1225.0    True      1.0   1.0   9.0    4.0  8170243.0     5.0   \n",
       "\n",
       "   MCGM_2  ...  PANAS.20  PANAS.21  PANAS.22  EDESI  EDESI.1  EDESI.2  \\\n",
       "0     5.0  ...       NaN       NaN       NaN    NaN      NaN      NaN   \n",
       "1     5.0  ...       NaN       NaN       NaN    NaN      NaN      NaN   \n",
       "2     5.0  ...       NaN       NaN       NaN    NaN      NaN      NaN   \n",
       "3     5.0  ...       3.0       3.0       3.0    3.0      1.0      1.0   \n",
       "4     4.0  ...       3.0       3.0       3.0    3.0      1.0      1.0   \n",
       "\n",
       "   EDESI.3  EDESI.4  EDESI.5  EDESI.6  \n",
       "0      NaN      NaN      NaN      NaN  \n",
       "1      NaN      NaN      NaN      NaN  \n",
       "2      NaN      NaN      NaN      NaN  \n",
       "3      1.0      1.0      1.0      1.0  \n",
       "4      1.0      0.0      1.0      1.0  \n",
       "\n",
       "[5 rows x 220 columns]"
      ]
     },
     "execution_count": 106,
     "metadata": {},
     "output_type": "execute_result"
    }
   ],
   "source": [
    "table.head()"
   ]
  },
  {
   "cell_type": "code",
   "execution_count": 252,
   "metadata": {},
   "outputs": [],
   "source": [
    "niño = table.loc[table['Sexo'] == 1.0]\n",
    "niña = table.loc[table['Sexo'] == 2.0]"
   ]
  },
  {
   "cell_type": "markdown",
   "metadata": {},
   "source": [
    "__________"
   ]
  },
  {
   "cell_type": "markdown",
   "metadata": {},
   "source": [
    "# Preprocesamiento y limpieza de las bases"
   ]
  },
  {
   "cell_type": "markdown",
   "metadata": {},
   "source": [
    "1 Comenzamos por organizar el OROS GRAT, OROS EP y MCGM  de acuerdo a sus respectivas subescalas. "
   ]
  },
  {
   "cell_type": "markdown",
   "metadata": {},
   "source": [
    "Separo las subescalas de la base de datos"
   ]
  },
  {
   "cell_type": "markdown",
   "metadata": {},
   "source": [
    "Reescalar ítems a 1-5 en caso de ser necesario\n",
    "\n",
    "Esto es para el MCGM"
   ]
  },
  {
   "cell_type": "code",
   "execution_count": 451,
   "metadata": {},
   "outputs": [],
   "source": [
    "MCGM = table[['MCGM_1', 'MCGM_2', 'MCGM_3', 'MCGM_4','MCGM_5','MCGM_6',\n",
    "            'MCGM_8','MCGM_9','MCGM_10','MCGM_11','MCGM_12','MCGM_13','MCGM_14','MCGM_15',\n",
    "            'MCGM_17','MCGM_18','MCGM_19','MCGM_20','MCGM_21','MCGM_22',\n",
    "            'MCGM_23','MCGM_24','MCGM_25','MCGM_26','MCGM_27','MCGM_28','MCGM_29']]\n",
    "MCGM = MCGM[0:324]"
   ]
  },
  {
   "cell_type": "code",
   "execution_count": 453,
   "metadata": {
    "scrolled": true
   },
   "outputs": [
    {
     "data": {
      "text/plain": [
       "array([[5., 5., 5., ..., 7., 7., 7.],\n",
       "       [5., 5., 5., ..., 7., 7., 7.],\n",
       "       [4., 5., 4., ..., 2., 2., 2.],\n",
       "       ...,\n",
       "       [5., 5., 5., ..., 7., 7., 7.],\n",
       "       [4., 5., 5., ..., 7., 7., 6.],\n",
       "       [5., 5., 5., ..., 6., 7., 7.]])"
      ]
     },
     "execution_count": 453,
     "metadata": {},
     "output_type": "execute_result"
    }
   ],
   "source": [
    "array = MCGM.values\n",
    "array"
   ]
  },
  {
   "cell_type": "code",
   "execution_count": 454,
   "metadata": {},
   "outputs": [],
   "source": [
    "# separate array into input and output components\n",
    "X = array[:,0:29]\n",
    "Y = array[:,26]"
   ]
  },
  {
   "cell_type": "code",
   "execution_count": 455,
   "metadata": {},
   "outputs": [],
   "source": [
    "scaler = MinMaxScaler(feature_range=(1, 5))\n",
    "#transformar los datos\n",
    "rescaledX = scaler.fit_transform(X)"
   ]
  },
  {
   "cell_type": "code",
   "execution_count": 456,
   "metadata": {
    "scrolled": false
   },
   "outputs": [
    {
     "name": "stdout",
     "output_type": "stream",
     "text": [
      "[[5. 5. 5. 5. 5. 5. 5.]\n",
      " [5. 5. 5. 5. 5. 5. 5.]\n",
      " [2. 2. 2. 2. 2. 2. 2.]\n",
      " [5. 5. 5. 5. 5. 5. 5.]\n",
      " [4. 4. 5. 5. 5. 5. 5.]]\n"
     ]
    }
   ],
   "source": [
    "# summarize transformed data\n",
    "np.set_printoptions(precision=0)\n",
    "print(rescaledX[0:5,20:29])"
   ]
  },
  {
   "cell_type": "code",
   "execution_count": 458,
   "metadata": {
    "scrolled": false
   },
   "outputs": [
    {
     "data": {
      "text/html": [
       "<div>\n",
       "<style scoped>\n",
       "    .dataframe tbody tr th:only-of-type {\n",
       "        vertical-align: middle;\n",
       "    }\n",
       "\n",
       "    .dataframe tbody tr th {\n",
       "        vertical-align: top;\n",
       "    }\n",
       "\n",
       "    .dataframe thead th {\n",
       "        text-align: right;\n",
       "    }\n",
       "</style>\n",
       "<table border=\"1\" class=\"dataframe\">\n",
       "  <thead>\n",
       "    <tr style=\"text-align: right;\">\n",
       "      <th></th>\n",
       "      <th>MCGM_1</th>\n",
       "      <th>MCGM_2</th>\n",
       "      <th>MCGM_3</th>\n",
       "      <th>MCGM_4</th>\n",
       "      <th>MCGM_5</th>\n",
       "      <th>MCGM_6</th>\n",
       "      <th>MCGM_8</th>\n",
       "      <th>MCGM_9</th>\n",
       "      <th>MCGM_10</th>\n",
       "      <th>MCGM_11</th>\n",
       "      <th>...</th>\n",
       "      <th>MCGM_20</th>\n",
       "      <th>MCGM_21</th>\n",
       "      <th>MCGM_22</th>\n",
       "      <th>MCGM_23</th>\n",
       "      <th>MCGM_24</th>\n",
       "      <th>MCGM_25</th>\n",
       "      <th>MCGM_26</th>\n",
       "      <th>MCGM_27</th>\n",
       "      <th>MCGM_28</th>\n",
       "      <th>MCGM_29</th>\n",
       "    </tr>\n",
       "  </thead>\n",
       "  <tbody>\n",
       "    <tr>\n",
       "      <td>0</td>\n",
       "      <td>5.0</td>\n",
       "      <td>5.0</td>\n",
       "      <td>5.0</td>\n",
       "      <td>5.0</td>\n",
       "      <td>5.0</td>\n",
       "      <td>5.0</td>\n",
       "      <td>5.0</td>\n",
       "      <td>5.0</td>\n",
       "      <td>5.0</td>\n",
       "      <td>5.0</td>\n",
       "      <td>...</td>\n",
       "      <td>1.0</td>\n",
       "      <td>5.0</td>\n",
       "      <td>5.0</td>\n",
       "      <td>5.0</td>\n",
       "      <td>5.0</td>\n",
       "      <td>5.0</td>\n",
       "      <td>5.0</td>\n",
       "      <td>5.0</td>\n",
       "      <td>5.0</td>\n",
       "      <td>5.0</td>\n",
       "    </tr>\n",
       "    <tr>\n",
       "      <td>1</td>\n",
       "      <td>5.0</td>\n",
       "      <td>5.0</td>\n",
       "      <td>5.0</td>\n",
       "      <td>5.0</td>\n",
       "      <td>5.0</td>\n",
       "      <td>5.0</td>\n",
       "      <td>5.0</td>\n",
       "      <td>5.0</td>\n",
       "      <td>5.0</td>\n",
       "      <td>5.0</td>\n",
       "      <td>...</td>\n",
       "      <td>5.0</td>\n",
       "      <td>5.0</td>\n",
       "      <td>5.0</td>\n",
       "      <td>5.0</td>\n",
       "      <td>5.0</td>\n",
       "      <td>5.0</td>\n",
       "      <td>5.0</td>\n",
       "      <td>5.0</td>\n",
       "      <td>5.0</td>\n",
       "      <td>5.0</td>\n",
       "    </tr>\n",
       "    <tr>\n",
       "      <td>2</td>\n",
       "      <td>4.0</td>\n",
       "      <td>5.0</td>\n",
       "      <td>4.0</td>\n",
       "      <td>4.0</td>\n",
       "      <td>4.0</td>\n",
       "      <td>4.0</td>\n",
       "      <td>4.0</td>\n",
       "      <td>4.0</td>\n",
       "      <td>4.0</td>\n",
       "      <td>4.0</td>\n",
       "      <td>...</td>\n",
       "      <td>4.0</td>\n",
       "      <td>2.0</td>\n",
       "      <td>2.0</td>\n",
       "      <td>2.0</td>\n",
       "      <td>2.0</td>\n",
       "      <td>2.0</td>\n",
       "      <td>2.0</td>\n",
       "      <td>2.0</td>\n",
       "      <td>2.0</td>\n",
       "      <td>2.0</td>\n",
       "    </tr>\n",
       "    <tr>\n",
       "      <td>3</td>\n",
       "      <td>5.0</td>\n",
       "      <td>5.0</td>\n",
       "      <td>5.0</td>\n",
       "      <td>5.0</td>\n",
       "      <td>5.0</td>\n",
       "      <td>5.0</td>\n",
       "      <td>5.0</td>\n",
       "      <td>5.0</td>\n",
       "      <td>5.0</td>\n",
       "      <td>5.0</td>\n",
       "      <td>...</td>\n",
       "      <td>1.0</td>\n",
       "      <td>2.0</td>\n",
       "      <td>1.0</td>\n",
       "      <td>5.0</td>\n",
       "      <td>5.0</td>\n",
       "      <td>5.0</td>\n",
       "      <td>5.0</td>\n",
       "      <td>5.0</td>\n",
       "      <td>5.0</td>\n",
       "      <td>5.0</td>\n",
       "    </tr>\n",
       "    <tr>\n",
       "      <td>4</td>\n",
       "      <td>5.0</td>\n",
       "      <td>4.0</td>\n",
       "      <td>5.0</td>\n",
       "      <td>4.0</td>\n",
       "      <td>5.0</td>\n",
       "      <td>5.0</td>\n",
       "      <td>5.0</td>\n",
       "      <td>5.0</td>\n",
       "      <td>5.0</td>\n",
       "      <td>2.0</td>\n",
       "      <td>...</td>\n",
       "      <td>2.0</td>\n",
       "      <td>4.0</td>\n",
       "      <td>2.0</td>\n",
       "      <td>4.0</td>\n",
       "      <td>4.0</td>\n",
       "      <td>5.0</td>\n",
       "      <td>5.0</td>\n",
       "      <td>5.0</td>\n",
       "      <td>5.0</td>\n",
       "      <td>5.0</td>\n",
       "    </tr>\n",
       "  </tbody>\n",
       "</table>\n",
       "<p>5 rows × 27 columns</p>\n",
       "</div>"
      ],
      "text/plain": [
       "   MCGM_1  MCGM_2  MCGM_3  MCGM_4  MCGM_5  MCGM_6  MCGM_8  MCGM_9  MCGM_10  \\\n",
       "0     5.0     5.0     5.0     5.0     5.0     5.0     5.0     5.0      5.0   \n",
       "1     5.0     5.0     5.0     5.0     5.0     5.0     5.0     5.0      5.0   \n",
       "2     4.0     5.0     4.0     4.0     4.0     4.0     4.0     4.0      4.0   \n",
       "3     5.0     5.0     5.0     5.0     5.0     5.0     5.0     5.0      5.0   \n",
       "4     5.0     4.0     5.0     4.0     5.0     5.0     5.0     5.0      5.0   \n",
       "\n",
       "   MCGM_11  ...  MCGM_20  MCGM_21  MCGM_22  MCGM_23  MCGM_24  MCGM_25  \\\n",
       "0      5.0  ...      1.0      5.0      5.0      5.0      5.0      5.0   \n",
       "1      5.0  ...      5.0      5.0      5.0      5.0      5.0      5.0   \n",
       "2      4.0  ...      4.0      2.0      2.0      2.0      2.0      2.0   \n",
       "3      5.0  ...      1.0      2.0      1.0      5.0      5.0      5.0   \n",
       "4      2.0  ...      2.0      4.0      2.0      4.0      4.0      5.0   \n",
       "\n",
       "   MCGM_26  MCGM_27  MCGM_28  MCGM_29  \n",
       "0      5.0      5.0      5.0      5.0  \n",
       "1      5.0      5.0      5.0      5.0  \n",
       "2      2.0      2.0      2.0      2.0  \n",
       "3      5.0      5.0      5.0      5.0  \n",
       "4      5.0      5.0      5.0      5.0  \n",
       "\n",
       "[5 rows x 27 columns]"
      ]
     },
     "execution_count": 458,
     "metadata": {},
     "output_type": "execute_result"
    }
   ],
   "source": [
    "MCGM = pd.DataFrame(rescaledX, columns = ['MCGM_1', 'MCGM_2', 'MCGM_3', 'MCGM_4','MCGM_5','MCGM_6',\n",
    "            'MCGM_8','MCGM_9','MCGM_10','MCGM_11','MCGM_12','MCGM_13','MCGM_14','MCGM_15',\n",
    "            'MCGM_17','MCGM_18','MCGM_19','MCGM_20','MCGM_21','MCGM_22',\n",
    "            'MCGM_23','MCGM_24','MCGM_25','MCGM_26','MCGM_27','MCGM_28','MCGM_29']).round()\n",
    "MCGM.head()"
   ]
  },
  {
   "cell_type": "code",
   "execution_count": 534,
   "metadata": {},
   "outputs": [],
   "source": [
    "MCGM['Sexo'] = table['Sexo']"
   ]
  },
  {
   "cell_type": "code",
   "execution_count": 535,
   "metadata": {},
   "outputs": [],
   "source": [
    "OROS_GRAT = table[['Sexo','OROS_GRAT_1','OROS_GRAT_2','OROS_GRAT_3','OROS_GRAT_4','OROS_GRAT_5','OROS_GRAT_6','OROS_GRAT_7',\n",
    "                  'OROS_GRAT_8','OROS_GRAT_9','OROS_GRAT_10','OROS_GRAT_11','OROS_GRAT_12','OROS_GRAT_13',\n",
    "                  'OROS_GRAT_14']]\n",
    "OROS_GRAT = OROS_GRAT[0:324]\n",
    "\n",
    "OROS_EP = table[['Sexo','OROS_EP_1', 'OROS_EP_2', 'OROS_EP_3', 'OROS_EP_4','OROS_EP_5','OROS_EP_6','OROS_EP_7','OROS_EP_8','OROS_EP_9','OROS_EP_10',\n",
    "           'OROS_EP_11','OROS_EP_12','OROS_EP_13','OROS_EP_14','OROS_EP_15','OROS_EP_16','OROS_EP_17','OROS_EP_18','OROS_EP_19','OROS_EP_20','OROS_EP_21',\n",
    "           'OROS_EP_22','OROS_EP_23']]\n",
    "OROS_EP = OROS_EP[0:324]"
   ]
  },
  {
   "cell_type": "markdown",
   "metadata": {},
   "source": [
    "Divido las subescalas para cada escala"
   ]
  },
  {
   "cell_type": "code",
   "execution_count": 521,
   "metadata": {},
   "outputs": [],
   "source": [
    "OROS_GRAT1 = OROS_GRAT[['OROS_GRAT_2', 'OROS_GRAT_3', 'OROS_GRAT_5', 'OROS_GRAT_6', 'OROS_GRAT_10', 'OROS_GRAT_13', 'OROS_GRAT_14']]\n",
    "OROS_INGRAT = OROS_GRAT[['OROS_GRAT_1','OROS_GRAT_7','OROS_GRAT_8','OROS_GRAT_9','OROS_GRAT_11','OROS_GRAT_12']]"
   ]
  },
  {
   "cell_type": "code",
   "execution_count": 522,
   "metadata": {
    "scrolled": true
   },
   "outputs": [],
   "source": [
    "OROS_EP_EMOCION = OROS_EP[['OROS_EP_1','OROS_EP_2','OROS_EP_4','OROS_EP_10','OROS_EP_21']]\n",
    "OROS_EP_SERENIDAD = OROS_EP[['OROS_EP_3', 'OROS_EP_5','OROS_EP_9','OROS_EP_14','OROS_EP_17','OROS_EP_19']]\n",
    "OROS_EP_SIMPATIA = OROS_EP[['OROS_EP_6', 'OROS_EP_7', 'OROS_EP_11','OROS_EP_21']]\n",
    "OROS_EP_SAT_PERS = OROS_EP[['OROS_EP_8','OROS_EP_16','OROS_EP_20']]"
   ]
  },
  {
   "cell_type": "code",
   "execution_count": 523,
   "metadata": {},
   "outputs": [],
   "source": [
    "MCGM_F1F2 = MCGM[['MCGM_1','MCGM_2','MCGM_3','MCGM_4','MCGM_5','MCGM_6','MCGM_8','MCGM_9','MCGM_10']]\n",
    "MCGM_F3 = MCGM[['MCGM_11', 'MCGM_12', 'MCGM_13', 'MCGM_14', 'MCGM_15']]\n",
    "MCGM_F4 = MCGM[['MCGM_17', 'MCGM_18', 'MCGM_19', 'MCGM_20']]\n",
    "MCGM_F5 = MCGM[['MCGM_21', 'MCGM_22', 'MCGM_23', 'MCGM_24', 'MCGM_25']]\n",
    "MCGM_F6 = MCGM[['MCGM_26', 'MCGM_27', 'MCGM_28', 'MCGM_29']]"
   ]
  },
  {
   "cell_type": "code",
   "execution_count": 524,
   "metadata": {},
   "outputs": [],
   "source": [
    "MCGM_emocion_actitudes = MCGM[['MCGM_1','MCGM_2','MCGM_3','MCGM_4','MCGM_5','MCGM_6','MCGM_8','MCGM_9','MCGM_10']]\n",
    "MCGM_actitudes = MCGM[['MCGM_11', 'MCGM_12', 'MCGM_13', 'MCGM_14', 'MCGM_15']]\n",
    "MCGM_comportamiento = MCGM[['MCGM_17', 'MCGM_18', 'MCGM_19', 'MCGM_20', 'MCGM_21', 'MCGM_22', 'MCGM_23', 'MCGM_24', 'MCGM_25', 'MCGM_26', 'MCGM_27', 'MCGM_28', 'MCGM_29']]  \n"
   ]
  },
  {
   "cell_type": "markdown",
   "metadata": {},
   "source": [
    "<a id ='descriptivos'></a>\n",
    "\n",
    "<a id ='top2'></a>"
   ]
  },
  {
   "cell_type": "markdown",
   "metadata": {},
   "source": [
    "Ahora vamos a calcular los promedios obtenidos para cada subescala y haremos unos descriptivos. \n",
    "\n",
    "Los vamos a organizar de la siguiente manera: \n",
    "\n",
    "<a href='#oros_grat'> ESCALA DE GRATITUD DE OROS </a>\n",
    "\n",
    "<a href='#oros_ep'> ESCALA DE EMOCIONES POSITIVAS DE OROS </a>\n",
    "\n",
    "<a href='#MCGM'> MULTICOMPONENT GRATITUDE MEASURE </a>\n",
    "\n",
    "Ir a: \n",
    "\n",
    "<a href='#Ir a inicio'> Ir a inicio </a>\n",
    "\n",
    "\n",
    "<a href='#Analisis entre pruebas'> Análisis entre pruebas </a>"
   ]
  },
  {
   "cell_type": "markdown",
   "metadata": {},
   "source": [
    "<a id ='oros_grat'></a>"
   ]
  },
  {
   "cell_type": "markdown",
   "metadata": {},
   "source": [
    "_____________________"
   ]
  },
  {
   "cell_type": "markdown",
   "metadata": {},
   "source": [
    "# ESCALA DE GRATITUD DE OROS "
   ]
  },
  {
   "cell_type": "markdown",
   "metadata": {},
   "source": [
    "<a href='#oros_grat_anova'> ANOVA </a>"
   ]
  },
  {
   "cell_type": "markdown",
   "metadata": {},
   "source": [
    "<a href='#oros_grat_plot'> Gráfico </a>"
   ]
  },
  {
   "cell_type": "markdown",
   "metadata": {},
   "source": [
    "(1) Dividir subescalas "
   ]
  },
  {
   "cell_type": "code",
   "execution_count": 185,
   "metadata": {},
   "outputs": [],
   "source": [
    "OROS_GRAT1_ih = np.concatenate([OROS_GRAT['OROS_GRAT_2'],  OROS_GRAT['OROS_GRAT_3'], OROS_GRAT['OROS_GRAT_5'], OROS_GRAT['OROS_GRAT_6'], OROS_GRAT['OROS_GRAT_10'], OROS_GRAT['OROS_GRAT_13'], OROS_GRAT['OROS_GRAT_14']])\n",
    "OROS_INGRAT1_ih = np.concatenate([OROS_GRAT['OROS_GRAT_1'], OROS_GRAT['OROS_GRAT_7'], OROS_GRAT['OROS_GRAT_8'],OROS_GRAT['OROS_GRAT_9'], OROS_GRAT['OROS_GRAT_11'], OROS_GRAT['OROS_GRAT_12']])"
   ]
  },
  {
   "cell_type": "markdown",
   "metadata": {},
   "source": [
    "Descriptivos a nivel general: \n",
    "\n",
    "Media\n",
    "\n",
    "Desviación Estandar\n",
    "\n",
    "Intervalo de confianza del 95%"
   ]
  },
  {
   "cell_type": "code",
   "execution_count": 273,
   "metadata": {
    "scrolled": true
   },
   "outputs": [
    {
     "name": "stdout",
     "output_type": "stream",
     "text": [
      "OROS gratitud =  Media:  1.8557422969187676 | SD:  0.02278897551558861 | 95%CI:  [1.8203122820493725, 1.8911723117881627]\n",
      "OROS ingratitud =  Media:  2.06781045751634 | SD:  0.025421007504551105 | 95%CI:  [2.0282907311914946, 2.1073301838411855]\n"
     ]
    }
   ],
   "source": [
    "print('OROS gratitud = ', 'Media: ', np.nanmean(OROS_GRAT1_ih), '| SD: ', stats.sem(OROS_GRAT1_ih, nan_policy = 'omit'), '| 95%CI: ', ci951(OROS_GRAT1_ih))\n",
    "\n",
    "print('OROS ingratitud = ', 'Media: ', np.nanmean(OROS_INGRAT1_ih), '| SD: ', stats.sem(OROS_INGRAT1_ih, nan_policy = 'omit'), '| 95%CI: ', ci951(OROS_INGRAT1_ih))"
   ]
  },
  {
   "cell_type": "markdown",
   "metadata": {},
   "source": [
    "Divido la base por sexo para ver explorar si hay diferencias por sexo"
   ]
  },
  {
   "cell_type": "code",
   "execution_count": 415,
   "metadata": {},
   "outputs": [],
   "source": [
    "OROS_G_base_sexo = []\n",
    "for sexo, oros_sex in OROS_GRAT.groupby('Sexo'):    \n",
    "    OROS_GRAT1_sex = np.concatenate([oros_sex['OROS_GRAT_2'],  oros_sex['OROS_GRAT_3'], oros_sex['OROS_GRAT_5'], oros_sex['OROS_GRAT_6'], oros_sex['OROS_GRAT_10'], oros_sex['OROS_GRAT_13'], oros_sex['OROS_GRAT_14']])\n",
    "    OROS_INGRAT1_sex = np.concatenate([oros_sex['OROS_GRAT_1'], oros_sex['OROS_GRAT_7'], oros_sex['OROS_GRAT_8'],oros_sex['OROS_GRAT_9'], oros_sex['OROS_GRAT_11'], oros_sex['OROS_GRAT_12']])\n",
    "    OROS_G_base_sexo.append([OROS_GRAT1_sex, OROS_INGRAT1_sex])  \n",
    "#     print(sexo)\n"
   ]
  },
  {
   "cell_type": "code",
   "execution_count": 276,
   "metadata": {},
   "outputs": [],
   "source": [
    "niño_agradecido_oros = OROS_G_base_sexo[0][0]\n",
    "niño_desagradecido_oros = OROS_G_base_sexo[0][1]\n",
    "niña_agradecido_oros = OROS_G_base_sexo[1][0]\n",
    "niña_desagradecido_oros = OROS_G_base_sexo[1][1]"
   ]
  },
  {
   "cell_type": "markdown",
   "metadata": {},
   "source": [
    "Descriptivos Sexo"
   ]
  },
  {
   "cell_type": "markdown",
   "metadata": {},
   "source": [
    "Niño"
   ]
  },
  {
   "cell_type": "code",
   "execution_count": 274,
   "metadata": {},
   "outputs": [
    {
     "name": "stdout",
     "output_type": "stream",
     "text": [
      "OROS gratitud =  Media:  1.8345120226308345 | SD:  0.03201616424505011 | 95%CI:  [1.7855989824544614, 1.8834250628072076]\n",
      "OROS ingratitud =  Media:  2.0825082508250827 | SD:  0.03625375640988692 | 95%CI:  [2.02712772156946, 2.1378887800807056]\n"
     ]
    }
   ],
   "source": [
    "print('OROS gratitud = ', 'Media: ', np.nanmean(niño_agradecido_oros), '| SD: ', stats.sem(niño_agradecido_oros, nan_policy = 'omit'), '| 95%CI: ', ci951(niño_agradecido_oros))\n",
    "\n",
    "print('OROS ingratitud = ', 'Media: ', np.nanmean(niño_desagradecido_oros), '| SD: ', stats.sem(niño_desagradecido_oros, nan_policy = 'omit'), '| 95%CI: ', ci951(niño_desagradecido_oros))"
   ]
  },
  {
   "cell_type": "markdown",
   "metadata": {},
   "source": [
    "Niña"
   ]
  },
  {
   "cell_type": "code",
   "execution_count": 277,
   "metadata": {
    "scrolled": true
   },
   "outputs": [
    {
     "name": "stdout",
     "output_type": "stream",
     "text": [
      "OROS gratitud =  Media:  1.8765603328710125 | SD:  0.03243156876942899 | 95%CI:  [1.825272693183877, 1.927847972558148]\n",
      "OROS ingratitud =  Media:  2.0533980582524274 | SD:  0.0356730729239227 | 95%CI:  [1.99699079798179, 2.109805318523065]\n"
     ]
    }
   ],
   "source": [
    "print('OROS gratitud = ', 'Media: ', np.nanmean(niña_agradecido_oros), '| SD: ', stats.sem(niña_agradecido_oros, nan_policy = 'omit'), '| 95%CI: ', ci951(niña_agradecido_oros))\n",
    "\n",
    "print('OROS ingratitud = ', 'Media: ', np.nanmean(niña_desagradecido_oros), '| SD: ', stats.sem(niña_desagradecido_oros, nan_policy = 'omit'), '| 95%CI: ', ci951(niña_desagradecido_oros))"
   ]
  },
  {
   "cell_type": "code",
   "execution_count": 328,
   "metadata": {},
   "outputs": [],
   "source": [
    "niño_agradecido_oros_b = pd.DataFrame(OROS_G_base_sexo[0][0], columns = ['Gratitud'])\n",
    "niño_agradecido_oros_b['Sexo'] = 'Niño'\n",
    "niño_agradecido_oros_b['GRAT'] = 'Gratitud'\n"
   ]
  },
  {
   "cell_type": "code",
   "execution_count": 329,
   "metadata": {},
   "outputs": [],
   "source": [
    "niño_desagradecido_oros_b = pd.DataFrame(OROS_G_base_sexo[0][1], columns = ['Gratitud'])\n",
    "niño_desagradecido_oros_b['Sexo'] = 'Niño'\n",
    "niño_desagradecido_oros_b['GRAT'] = 'Ingratitud'\n"
   ]
  },
  {
   "cell_type": "code",
   "execution_count": 330,
   "metadata": {},
   "outputs": [],
   "source": [
    "niña_agradecido_oros_b = pd.DataFrame(OROS_G_base_sexo[1][0], columns = ['Gratitud'])\n",
    "niña_agradecido_oros_b['Sexo'] = 'Niña'\n",
    "niña_agradecido_oros_b['GRAT'] = 'Gratitud'\n"
   ]
  },
  {
   "cell_type": "code",
   "execution_count": 331,
   "metadata": {},
   "outputs": [],
   "source": [
    "niña_desagradecido_oros_b = pd.DataFrame(OROS_G_base_sexo[1][1], columns = ['Gratitud'])\n",
    "niña_desagradecido_oros_b['Sexo'] = 'Niña'\n",
    "niña_desagradecido_oros_b['GRAT'] = 'Ingratitud'\n"
   ]
  },
  {
   "cell_type": "code",
   "execution_count": 332,
   "metadata": {
    "scrolled": false
   },
   "outputs": [],
   "source": [
    "GRAT_all = pd.concat([niño_agradecido_oros_b, niño_desagradecido_oros_b, niña_agradecido_oros_b, niña_desagradecido_oros_b])"
   ]
  },
  {
   "cell_type": "code",
   "execution_count": 354,
   "metadata": {
    "scrolled": true
   },
   "outputs": [
    {
     "data": {
      "text/html": [
       "<div>\n",
       "<style scoped>\n",
       "    .dataframe tbody tr th:only-of-type {\n",
       "        vertical-align: middle;\n",
       "    }\n",
       "\n",
       "    .dataframe tbody tr th {\n",
       "        vertical-align: top;\n",
       "    }\n",
       "\n",
       "    .dataframe thead th {\n",
       "        text-align: right;\n",
       "    }\n",
       "</style>\n",
       "<table border=\"1\" class=\"dataframe\">\n",
       "  <thead>\n",
       "    <tr style=\"text-align: right;\">\n",
       "      <th></th>\n",
       "      <th>Gratitud</th>\n",
       "      <th>Sexo</th>\n",
       "      <th>GRAT</th>\n",
       "    </tr>\n",
       "  </thead>\n",
       "  <tbody>\n",
       "    <tr>\n",
       "      <td>0</td>\n",
       "      <td>NaN</td>\n",
       "      <td>Niño</td>\n",
       "      <td>Gratitud</td>\n",
       "    </tr>\n",
       "    <tr>\n",
       "      <td>1</td>\n",
       "      <td>NaN</td>\n",
       "      <td>Niño</td>\n",
       "      <td>Gratitud</td>\n",
       "    </tr>\n",
       "    <tr>\n",
       "      <td>2</td>\n",
       "      <td>NaN</td>\n",
       "      <td>Niño</td>\n",
       "      <td>Gratitud</td>\n",
       "    </tr>\n",
       "    <tr>\n",
       "      <td>3</td>\n",
       "      <td>1.0</td>\n",
       "      <td>Niño</td>\n",
       "      <td>Gratitud</td>\n",
       "    </tr>\n",
       "    <tr>\n",
       "      <td>4</td>\n",
       "      <td>1.0</td>\n",
       "      <td>Niño</td>\n",
       "      <td>Gratitud</td>\n",
       "    </tr>\n",
       "  </tbody>\n",
       "</table>\n",
       "</div>"
      ],
      "text/plain": [
       "   Gratitud  Sexo      GRAT\n",
       "0       NaN  Niño  Gratitud\n",
       "1       NaN  Niño  Gratitud\n",
       "2       NaN  Niño  Gratitud\n",
       "3       1.0  Niño  Gratitud\n",
       "4       1.0  Niño  Gratitud"
      ]
     },
     "execution_count": 354,
     "metadata": {},
     "output_type": "execute_result"
    }
   ],
   "source": [
    "GRAT_all.head()"
   ]
  },
  {
   "cell_type": "markdown",
   "metadata": {},
   "source": [
    "<a id ='oros_grat_anova'></a>"
   ]
  },
  {
   "cell_type": "markdown",
   "metadata": {},
   "source": [
    "ANOVA\n",
    "\n",
    "Una prueba de hipótesis solo para ver si hay diferencias entre niños y niñas"
   ]
  },
  {
   "cell_type": "code",
   "execution_count": 349,
   "metadata": {
    "scrolled": false
   },
   "outputs": [
    {
     "name": "stdout",
     "output_type": "stream",
     "text": [
      "p-value:  0.142 | No se asumen varianzas iguales\n"
     ]
    }
   ],
   "source": [
    "#ANOVA de dos factores (factor 1 = Sexo: Niño|Niña; factor 2 = subescala: Gratitud|Ingratitud)\n",
    "\n",
    "# GRAT_all\n",
    "res = stat()\n",
    "res.levene(df=GRAT_all.dropna(), res_var='Gratitud', xfac_var=['Sexo','GRAT'])\n",
    "res.levene_summary\n",
    "\n",
    "#Verificar si se cumple la supisición de varianzas iguales\n",
    "\n",
    "if res.levene_summary['Value'][2] < 0.05: \n",
    "    print('p-value: ', res.levene_summary['Value'][2],'|', 'Se asumen varianzanzas Desiguales')\n",
    "else: \n",
    "    print('p-value: ', res.levene_summary['Value'][2], '|', 'No se asumen varianzas iguales')"
   ]
  },
  {
   "cell_type": "code",
   "execution_count": 496,
   "metadata": {
    "scrolled": false
   },
   "outputs": [
    {
     "name": "stdout",
     "output_type": "stream",
     "text": [
      "Overall model F( 3, 2648) =  13.310, p =  0.0000\n"
     ]
    },
    {
     "data": {
      "text/html": [
       "<table class=\"simpletable\">\n",
       "<caption>OLS Regression Results</caption>\n",
       "<tr>\n",
       "  <th>Dep. Variable:</th>        <td>Gratitud</td>     <th>  R-squared:         </th> <td>   0.015</td>\n",
       "</tr>\n",
       "<tr>\n",
       "  <th>Model:</th>                   <td>OLS</td>       <th>  Adj. R-squared:    </th> <td>   0.014</td>\n",
       "</tr>\n",
       "<tr>\n",
       "  <th>Method:</th>             <td>Least Squares</td>  <th>  F-statistic:       </th> <td>   13.31</td>\n",
       "</tr>\n",
       "<tr>\n",
       "  <th>Date:</th>             <td>Mon, 07 Jun 2021</td> <th>  Prob (F-statistic):</th> <td>1.27e-08</td>\n",
       "</tr>\n",
       "<tr>\n",
       "  <th>Time:</th>                 <td>11:38:26</td>     <th>  Log-Likelihood:    </th> <td> -3405.2</td>\n",
       "</tr>\n",
       "<tr>\n",
       "  <th>No. Observations:</th>      <td>  2652</td>      <th>  AIC:               </th> <td>   6818.</td>\n",
       "</tr>\n",
       "<tr>\n",
       "  <th>Df Residuals:</th>          <td>  2648</td>      <th>  BIC:               </th> <td>   6842.</td>\n",
       "</tr>\n",
       "<tr>\n",
       "  <th>Df Model:</th>              <td>     3</td>      <th>                     </th>     <td> </td>   \n",
       "</tr>\n",
       "<tr>\n",
       "  <th>Covariance Type:</th>      <td>nonrobust</td>    <th>                     </th>     <td> </td>   \n",
       "</tr>\n",
       "</table>\n",
       "<table class=\"simpletable\">\n",
       "<tr>\n",
       "                 <td></td>                    <th>coef</th>     <th>std err</th>      <th>t</th>      <th>P>|t|</th>  <th>[0.025</th>    <th>0.975]</th>  \n",
       "</tr>\n",
       "<tr>\n",
       "  <th>Intercept</th>                       <td>    1.8766</td> <td>    0.033</td> <td>   57.624</td> <td> 0.000</td> <td>    1.813</td> <td>    1.940</td>\n",
       "</tr>\n",
       "<tr>\n",
       "  <th>Sexo[T.Niño]</th>                    <td>   -0.0420</td> <td>    0.046</td> <td>   -0.909</td> <td> 0.364</td> <td>   -0.133</td> <td>    0.049</td>\n",
       "</tr>\n",
       "<tr>\n",
       "  <th>GRAT[T.Ingratitud]</th>              <td>    0.1768</td> <td>    0.048</td> <td>    3.689</td> <td> 0.000</td> <td>    0.083</td> <td>    0.271</td>\n",
       "</tr>\n",
       "<tr>\n",
       "  <th>Sexo[T.Niño]:GRAT[T.Ingratitud]</th> <td>    0.0712</td> <td>    0.068</td> <td>    1.045</td> <td> 0.296</td> <td>   -0.062</td> <td>    0.205</td>\n",
       "</tr>\n",
       "</table>\n",
       "<table class=\"simpletable\">\n",
       "<tr>\n",
       "  <th>Omnibus:</th>       <td>12612.448</td> <th>  Durbin-Watson:     </th> <td>   0.959</td>\n",
       "</tr>\n",
       "<tr>\n",
       "  <th>Prob(Omnibus):</th>  <td> 0.000</td>   <th>  Jarque-Bera (JB):  </th> <td> 305.203</td>\n",
       "</tr>\n",
       "<tr>\n",
       "  <th>Skew:</th>           <td> 0.079</td>   <th>  Prob(JB):          </th> <td>5.32e-67</td>\n",
       "</tr>\n",
       "<tr>\n",
       "  <th>Kurtosis:</th>       <td> 1.346</td>   <th>  Cond. No.          </th> <td>    6.62</td>\n",
       "</tr>\n",
       "</table><br/><br/>Warnings:<br/>[1] Standard Errors assume that the covariance matrix of the errors is correctly specified."
      ],
      "text/plain": [
       "<class 'statsmodels.iolib.summary.Summary'>\n",
       "\"\"\"\n",
       "                            OLS Regression Results                            \n",
       "==============================================================================\n",
       "Dep. Variable:               Gratitud   R-squared:                       0.015\n",
       "Model:                            OLS   Adj. R-squared:                  0.014\n",
       "Method:                 Least Squares   F-statistic:                     13.31\n",
       "Date:                Mon, 07 Jun 2021   Prob (F-statistic):           1.27e-08\n",
       "Time:                        11:38:26   Log-Likelihood:                -3405.2\n",
       "No. Observations:                2652   AIC:                             6818.\n",
       "Df Residuals:                    2648   BIC:                             6842.\n",
       "Df Model:                           3                                         \n",
       "Covariance Type:            nonrobust                                         \n",
       "===================================================================================================\n",
       "                                      coef    std err          t      P>|t|      [0.025      0.975]\n",
       "---------------------------------------------------------------------------------------------------\n",
       "Intercept                           1.8766      0.033     57.624      0.000       1.813       1.940\n",
       "Sexo[T.Niño]                       -0.0420      0.046     -0.909      0.364      -0.133       0.049\n",
       "GRAT[T.Ingratitud]                  0.1768      0.048      3.689      0.000       0.083       0.271\n",
       "Sexo[T.Niño]:GRAT[T.Ingratitud]     0.0712      0.068      1.045      0.296      -0.062       0.205\n",
       "==============================================================================\n",
       "Omnibus:                    12612.448   Durbin-Watson:                   0.959\n",
       "Prob(Omnibus):                  0.000   Jarque-Bera (JB):              305.203\n",
       "Skew:                           0.079   Prob(JB):                     5.32e-67\n",
       "Kurtosis:                       1.346   Cond. No.                         6.62\n",
       "==============================================================================\n",
       "\n",
       "Warnings:\n",
       "[1] Standard Errors assume that the covariance matrix of the errors is correctly specified.\n",
       "\"\"\""
      ]
     },
     "execution_count": 496,
     "metadata": {},
     "output_type": "execute_result"
    }
   ],
   "source": [
    "#perform two-way ANOVA\n",
    "\n",
    "formula = 'Gratitud ~ Sexo + GRAT + Sexo:GRAT'\n",
    "#formula = 'IndiceEficiencia ~  rango_edad'\n",
    "\n",
    "model = sm.formula.ols(formula, data= GRAT_all).fit()\n",
    "print(f\"Overall model F({model.df_model: .0f},{model.df_resid: .0f}) = {model.fvalue: .3f}, p = {model.f_pvalue: .4f}\")\n",
    "# Perform ANOVA and print table\n",
    "# aov_table = sm.stats.anova_lm(model, typ=2)\n",
    "# print(aov_table)\n",
    "\n",
    "model.summary()"
   ]
  },
  {
   "cell_type": "code",
   "execution_count": 353,
   "metadata": {
    "scrolled": true
   },
   "outputs": [
    {
     "data": {
      "text/html": [
       "<div>\n",
       "<style scoped>\n",
       "    .dataframe tbody tr th:only-of-type {\n",
       "        vertical-align: middle;\n",
       "    }\n",
       "\n",
       "    .dataframe tbody tr th {\n",
       "        vertical-align: top;\n",
       "    }\n",
       "\n",
       "    .dataframe thead th {\n",
       "        text-align: right;\n",
       "    }\n",
       "</style>\n",
       "<table border=\"1\" class=\"dataframe\">\n",
       "  <thead>\n",
       "    <tr style=\"text-align: right;\">\n",
       "      <th></th>\n",
       "      <th>sum_sq</th>\n",
       "      <th>df</th>\n",
       "      <th>mean_sq</th>\n",
       "      <th>F</th>\n",
       "      <th>PR(&gt;F)</th>\n",
       "      <th>eta_sq</th>\n",
       "      <th>omega_sq</th>\n",
       "    </tr>\n",
       "  </thead>\n",
       "  <tbody>\n",
       "    <tr>\n",
       "      <td>Sexo</td>\n",
       "      <td>0.056183</td>\n",
       "      <td>1.0</td>\n",
       "      <td>0.056183</td>\n",
       "      <td>0.073477</td>\n",
       "      <td>7.863614e-01</td>\n",
       "      <td>0.000027</td>\n",
       "      <td>-0.000345</td>\n",
       "    </tr>\n",
       "    <tr>\n",
       "      <td>GRAT</td>\n",
       "      <td>29.640604</td>\n",
       "      <td>1.0</td>\n",
       "      <td>29.640604</td>\n",
       "      <td>38.764177</td>\n",
       "      <td>5.543333e-10</td>\n",
       "      <td>0.014422</td>\n",
       "      <td>0.014044</td>\n",
       "    </tr>\n",
       "    <tr>\n",
       "      <td>Sexo:GRAT</td>\n",
       "      <td>0.834234</td>\n",
       "      <td>1.0</td>\n",
       "      <td>0.834234</td>\n",
       "      <td>1.091017</td>\n",
       "      <td>2.963413e-01</td>\n",
       "      <td>0.000406</td>\n",
       "      <td>0.000034</td>\n",
       "    </tr>\n",
       "    <tr>\n",
       "      <td>Residual</td>\n",
       "      <td>2024.764228</td>\n",
       "      <td>2648.0</td>\n",
       "      <td>0.764639</td>\n",
       "      <td>NaN</td>\n",
       "      <td>NaN</td>\n",
       "      <td>NaN</td>\n",
       "      <td>NaN</td>\n",
       "    </tr>\n",
       "  </tbody>\n",
       "</table>\n",
       "</div>"
      ],
      "text/plain": [
       "                sum_sq      df    mean_sq          F        PR(>F)    eta_sq  \\\n",
       "Sexo          0.056183     1.0   0.056183   0.073477  7.863614e-01  0.000027   \n",
       "GRAT         29.640604     1.0  29.640604  38.764177  5.543333e-10  0.014422   \n",
       "Sexo:GRAT     0.834234     1.0   0.834234   1.091017  2.963413e-01  0.000406   \n",
       "Residual   2024.764228  2648.0   0.764639        NaN           NaN       NaN   \n",
       "\n",
       "           omega_sq  \n",
       "Sexo      -0.000345  \n",
       "GRAT       0.014044  \n",
       "Sexo:GRAT  0.000034  \n",
       "Residual        NaN  "
      ]
     },
     "execution_count": 353,
     "metadata": {},
     "output_type": "execute_result"
    }
   ],
   "source": [
    "def anova_table(aov):\n",
    "    aov['mean_sq'] = aov[:]['sum_sq']/aov[:]['df']\n",
    "\n",
    "    aov['eta_sq'] = aov[:-1]['sum_sq']/sum(aov['sum_sq'])\n",
    "\n",
    "    aov['omega_sq'] = (aov[:-1]['sum_sq']-(aov[:-1]['df']*aov['mean_sq'][-1]))/(sum(aov['sum_sq'])+aov['mean_sq'][-1])\n",
    "\n",
    "    cols = ['sum_sq', 'df', 'mean_sq', 'F', 'PR(>F)', 'eta_sq', 'omega_sq']\n",
    "    aov = aov[cols]\n",
    "    return aov\n",
    "\n",
    "anova_table(aov_table)"
   ]
  },
  {
   "cell_type": "markdown",
   "metadata": {},
   "source": [
    "<a id ='oros_grat_plot'></a>"
   ]
  },
  {
   "cell_type": "markdown",
   "metadata": {},
   "source": [
    "_____"
   ]
  },
  {
   "cell_type": "markdown",
   "metadata": {},
   "source": [
    "GRÁFICO"
   ]
  },
  {
   "cell_type": "code",
   "execution_count": 304,
   "metadata": {
    "scrolled": false
   },
   "outputs": [
    {
     "data": {
      "text/plain": [
       "<matplotlib.legend.Legend at 0x2227c410>"
      ]
     },
     "execution_count": 304,
     "metadata": {},
     "output_type": "execute_result"
    },
    {
     "data": {
      "image/png": "[encoded data removed]",
      "text/plain": [
       "<Figure size 504x360 with 1 Axes>"
      ]
     },
     "metadata": {
      "needs_background": "light"
     },
     "output_type": "display_data"
    }
   ],
   "source": [
    "OROS_GRAT_MEDIAS = [np.nanmean(OROS_GRAT1_ih), np.nanmean(OROS_INGRAT1_ih)]\n",
    "OROS_GRAT_SEM = [stats.sem(OROS_GRAT1_ih, nan_policy = 'omit'), stats.sem(OROS_INGRAT1_ih, nan_policy = 'omit')]\n",
    "\n",
    "#Niño\n",
    "OROS_GRAT_MEDIAS_niño = [np.nanmean(niño_agradecido_oros), np.nanmean(niño_desagradecido_oros)]\n",
    "OROS_GRAT_SEM_niño = [stats.sem(niño_agradecido_oros, nan_policy = 'omit'), stats.sem(niño_desagradecido_oros, nan_policy = 'omit')]\n",
    "\n",
    "#Niña\n",
    "OROS_GRAT_MEDIAS_niña = [np.nanmean(niña_agradecido_oros), np.nanmean(niña_desagradecido_oros)]\n",
    "OROS_GRAT_SEM_niña = [stats.sem(niña_agradecido_oros, nan_policy = 'omit'), stats.sem(niña_agradecido_oros, nan_policy = 'omit')]\n",
    "\n",
    "label = ['Gratitud', 'Ingratitud']\n",
    "\n",
    "\n",
    "plt.figure(figsize = (7,5))\n",
    "plt.errorbar(label, OROS_GRAT_MEDIAS, OROS_GRAT_SEM, color='midnightblue', linewidth=4, capsize =4, label = 'Todos')\n",
    "plt.errorbar(label, OROS_GRAT_MEDIAS_niño, OROS_GRAT_SEM_niño, color='orange', dashes = [0.7, 0.7], linewidth=4, capsize =4, label = 'Niño')\n",
    "plt.errorbar(label, OROS_GRAT_MEDIAS_niña, OROS_GRAT_SEM_niña, color='deepskyblue', dashes = [0.7, 0.7], linewidth=4, capsize =4, label = 'Niña')\n",
    "\n",
    "plt.xticks(rotation=0, size=20)\n",
    "plt.yticks(size=15)\n",
    "plt.ylim(1.7,2.2)\n",
    "plt.ylabel('Puntaje promedio', size = 20)\n",
    "plt.legend(loc='upper left', prop={'size': 15})\n",
    "# plt.grid(True, linewidth=0.5, color='k', linestyle='-')\n"
   ]
  },
  {
   "cell_type": "markdown",
   "metadata": {},
   "source": [
    "<a id ='oros_ep'></a>"
   ]
  },
  {
   "cell_type": "markdown",
   "metadata": {},
   "source": [
    "# ESCALA DE EMOCIONES POSITIVAS DE OROS"
   ]
  },
  {
   "cell_type": "markdown",
   "metadata": {},
   "source": [
    "<a href='#top2'> SUBIR A DESCRIPTIVOS </a>"
   ]
  },
  {
   "cell_type": "markdown",
   "metadata": {},
   "source": [
    "<a href='#oros_ep_anova'> ANOVA </a>"
   ]
  },
  {
   "cell_type": "markdown",
   "metadata": {},
   "source": [
    "<a href='#oros_ep_plot'> GRÁFICO </a>"
   ]
  },
  {
   "cell_type": "markdown",
   "metadata": {},
   "source": [
    "Descriptivos a nivel general: \n",
    "\n",
    "Media\n",
    "\n",
    "Desviación Estandar\n",
    "\n",
    "Intervalo de confianza del 95%"
   ]
  },
  {
   "cell_type": "code",
   "execution_count": 526,
   "metadata": {
    "scrolled": true
   },
   "outputs": [
    {
     "name": "stdout",
     "output_type": "stream",
     "text": [
      "OROS emoción =  Media:  1.2626198083067093 | SD:  [0.026955826023774675 0.01750659990353687 0.021615877964491298\n",
      " 0.030710410537300115 0.03613064358382898] | 95%CI:  [1.2080493475693226, 1.317190269044096]\n",
      "\n",
      "OROS serenidad =  Media:  1.750266240681576 | SD:  [0.0363823966772218 0.03604724274975936 0.03669577366770971\n",
      " 0.0362770355062524 0.03712829602940647 0.040736631304519405] | 95%CI:  [1.6783197593293846, 1.8222127220337676]\n",
      "\n",
      "OROS simpatía =  Media:  1.6621405750798721 | SD:  [0.03595000058104789 0.04378966632597699 0.03455894612313358\n",
      " 0.03613064358382898] | 95%CI:  [1.5796756119099855, 1.7446055382497587]\n",
      "\n",
      "OROS Satisfacción personal =  Media:  1.3535676251331203 | SD:  [0.02762120610302628 0.03581688911778449 0.03625087298641295] | 95%CI:  [1.2885660577719416, 1.4185691924942991]\n"
     ]
    }
   ],
   "source": [
    "print('OROS emoción = ', 'Media: ', np.nanmean(OROS_EP_EMOCION), '| SD: ', stats.sem(OROS_EP_EMOCION,0, nan_policy = 'omit'), '| 95%CI: ', ci951(OROS_EP_EMOCION))\n",
    "print()\n",
    "print('OROS serenidad = ', 'Media: ', np.nanmean(OROS_EP_SERENIDAD), '| SD: ', stats.sem(OROS_EP_SERENIDAD, nan_policy = 'omit'), '| 95%CI: ', ci951(OROS_EP_SERENIDAD))\n",
    "print()\n",
    "print('OROS simpatía = ', 'Media: ', np.nanmean(OROS_EP_SIMPATIA), '| SD: ', stats.sem(OROS_EP_SIMPATIA, nan_policy = 'omit'), '| 95%CI: ', ci951(OROS_EP_SIMPATIA))\n",
    "print()\n",
    "print('OROS Satisfacción personal = ', 'Media: ', np.nanmean(OROS_EP_SAT_PERS), '| SD: ', stats.sem(OROS_EP_SAT_PERS, nan_policy = 'omit'), '| 95%CI: ', ci951(OROS_EP_SAT_PERS))"
   ]
  },
  {
   "cell_type": "markdown",
   "metadata": {},
   "source": [
    "."
   ]
  },
  {
   "cell_type": "markdown",
   "metadata": {},
   "source": [
    "Divido la base por sexo para ver explorar si hay diferencias por sexo"
   ]
  },
  {
   "cell_type": "code",
   "execution_count": 530,
   "metadata": {},
   "outputs": [
    {
     "name": "stdout",
     "output_type": "stream",
     "text": [
      "1.0\n",
      "2.0\n"
     ]
    }
   ],
   "source": [
    "OROS_EP_base_sexo = []\n",
    "for sexo, oros_ep_sex in OROS_EP.groupby('Sexo'):\n",
    "    \n",
    "    OROS_EP_EMOCION_sex = np.concatenate([oros_ep_sex['OROS_EP_1'],oros_ep_sex['OROS_EP_2'],oros_ep_sex['OROS_EP_4'],oros_ep_sex['OROS_EP_10'],oros_ep_sex['OROS_EP_21']])\n",
    "    OROS_EP_SERENIDAD_sex = np.concatenate([oros_ep_sex['OROS_EP_3'], oros_ep_sex['OROS_EP_5'],oros_ep_sex['OROS_EP_9'],oros_ep_sex['OROS_EP_14'],oros_ep_sex['OROS_EP_17'],oros_ep_sex['OROS_EP_19']])\n",
    "    OROS_EP_SIMPATIA_sex = np.concatenate([oros_ep_sex['OROS_EP_6'], oros_ep_sex['OROS_EP_7'],oros_ep_sex['OROS_EP_11'],oros_ep_sex['OROS_EP_21']])\n",
    "    OROS_EP_SAT_PERS_sex = np.concatenate([oros_ep_sex['OROS_EP_8'],oros_ep_sex['OROS_EP_16'],oros_ep_sex['OROS_EP_20']])\n",
    "    \n",
    "    OROS_EP_base_sexo.append([OROS_EP_EMOCION_sex, OROS_EP_SERENIDAD_sex, OROS_EP_SIMPATIA_sex, OROS_EP_SAT_PERS_sex])  \n",
    "    print(sexo)\n"
   ]
  },
  {
   "cell_type": "code",
   "execution_count": 389,
   "metadata": {
    "scrolled": true
   },
   "outputs": [],
   "source": [
    "niño_OROS_emocion = OROS_EP_base_sexo[0][0]\n",
    "niño_OROS_serenidad = OROS_EP_base_sexo[0][1]\n",
    "niño_OROS_simpatia = OROS_EP_base_sexo[0][2]\n",
    "niño_OROS_sat_pers = OROS_EP_base_sexo[0][3]\n",
    "\n",
    "niña_OROS_emocion = OROS_EP_base_sexo[1][0]\n",
    "niña_OROS_serenidad = OROS_EP_base_sexo[1][1]\n",
    "niña_OROS_simpatia = OROS_EP_base_sexo[1][2]\n",
    "niña_OROS_sat_pers = OROS_EP_base_sexo[1][3]"
   ]
  },
  {
   "cell_type": "markdown",
   "metadata": {},
   "source": [
    "Descriptivo SEXO"
   ]
  },
  {
   "cell_type": "markdown",
   "metadata": {},
   "source": [
    "Niño"
   ]
  },
  {
   "cell_type": "code",
   "execution_count": 390,
   "metadata": {},
   "outputs": [
    {
     "name": "stdout",
     "output_type": "stream",
     "text": [
      "OROS emoción =  Media:  1.25625 | SD:  0.01753187469048029 | 95%CI:  [1.2225353409041142, 1.289964659095886]\n",
      "\n",
      "OROS serenidad =  Media:  1.7916666666666667 | SD:  0.021569794940140333 | 95%CI:  [1.750182561927547, 1.8331507714057864]\n",
      "\n",
      "OROS simpatía =  Media:  1.6296875 | SD:  0.029138817082112918 | 95%CI:  [1.5736608858040781, 1.6857141141959218]\n",
      "\n",
      "OROS satisfacción personal =  Media:  1.3791666666666667 | SD:  0.028211571638218007 | 95%CI:  [1.324937062102778, 1.4333962712305552]\n"
     ]
    }
   ],
   "source": [
    "print('OROS emoción = ', 'Media: ', np.nanmean(niño_OROS_emocion), '| SD: ', stats.sem(niño_OROS_emocion, nan_policy = 'omit'), '| 95%CI: ', ci951(niño_OROS_emocion))\n",
    "print()\n",
    "print('OROS serenidad = ', 'Media: ', np.nanmean(niño_OROS_serenidad), '| SD: ', stats.sem(niño_OROS_serenidad, nan_policy = 'omit'), '| 95%CI: ', ci951(niño_OROS_serenidad))\n",
    "print()\n",
    "print('OROS simpatía = ', 'Media: ', np.nanmean(niño_OROS_simpatia), '| SD: ', stats.sem(niño_OROS_simpatia, nan_policy = 'omit'), '| 95%CI: ', ci951(niño_OROS_simpatia))\n",
    "print()\n",
    "print('OROS satisfacción personal = ', 'Media: ', np.nanmean(niño_OROS_sat_pers), '| SD: ', stats.sem(niño_OROS_sat_pers, nan_policy = 'omit'), '| 95%CI: ', ci951(niño_OROS_sat_pers))\n"
   ]
  },
  {
   "cell_type": "markdown",
   "metadata": {},
   "source": [
    "Niña"
   ]
  },
  {
   "cell_type": "code",
   "execution_count": 391,
   "metadata": {
    "scrolled": true
   },
   "outputs": [
    {
     "name": "stdout",
     "output_type": "stream",
     "text": [
      "OROS emoción =  Media:  1.269281045751634 | SD:  0.01833728082181775 | 95%CI:  [1.2339363586802885, 1.3046257328229793]\n",
      "\n",
      "OROS serenidad =  Media:  1.7069716775599129 | SD:  0.02147375459787631 | 95%CI:  [1.665576995028251, 1.7483663600915746]\n",
      "\n",
      "OROS simpatía =  Media:  1.696078431372549 | SD:  0.031433563626343045 | 95%CI:  [1.6355008740606563, 1.7566559886844417]\n",
      "\n",
      "OROS satisfacción personal =  Media:  1.326797385620915 | SD:  0.02679916068904604 | 95%CI:  [1.275165161610047, 1.378429609631783]\n"
     ]
    }
   ],
   "source": [
    "print('OROS emoción = ', 'Media: ', np.nanmean(niña_OROS_emocion), '| SD: ', stats.sem(niña_OROS_emocion, nan_policy = 'omit'), '| 95%CI: ', ci951(niña_OROS_emocion))\n",
    "print()\n",
    "print('OROS serenidad = ', 'Media: ', np.nanmean(niña_OROS_serenidad), '| SD: ', stats.sem(niña_OROS_serenidad, nan_policy = 'omit'), '| 95%CI: ', ci951(niña_OROS_serenidad))\n",
    "print()\n",
    "print('OROS simpatía = ', 'Media: ', np.nanmean(niña_OROS_simpatia), '| SD: ', stats.sem(niña_OROS_simpatia, nan_policy = 'omit'), '| 95%CI: ', ci951(niña_OROS_simpatia))\n",
    "print()\n",
    "print('OROS satisfacción personal = ', 'Media: ', np.nanmean(niña_OROS_sat_pers), '| SD: ', stats.sem(niña_OROS_sat_pers, nan_policy = 'omit'), '| 95%CI: ', ci951(niña_OROS_sat_pers))\n"
   ]
  },
  {
   "cell_type": "markdown",
   "metadata": {},
   "source": [
    "_____________"
   ]
  },
  {
   "cell_type": "code",
   "execution_count": 503,
   "metadata": {},
   "outputs": [],
   "source": [
    "niño_emocion_oros_b = pd.DataFrame(OROS_EP_base_sexo[0][0], columns = ['Gratitud'])\n",
    "niño_emocion_oros_b['Sexo'] = 'Niño'\n",
    "niño_emocion_oros_b['GRAT'] = 'Emoción'\n",
    "\n",
    "\n",
    "niño_serenidad_oros_b = pd.DataFrame(OROS_EP_base_sexo[0][1], columns = ['Gratitud'])\n",
    "niño_serenidad_oros_b['Sexo'] = 'Niño'\n",
    "niño_serenidad_oros_b['GRAT'] = 'Serenidad'\n",
    "\n",
    "\n",
    "niño_simpatia_oros_b = pd.DataFrame(OROS_EP_base_sexo[0][2], columns = ['Gratitud'])\n",
    "niño_simpatia_oros_b['Sexo'] = 'Niño'\n",
    "niño_simpatia_oros_b['GRAT'] = 'Simpatía'\n",
    "\n",
    "\n",
    "niño_satpers_oros_b = pd.DataFrame(OROS_EP_base_sexo[0][3], columns = ['Gratitud'])\n",
    "niño_satpers_oros_b['Sexo'] = 'Niño'\n",
    "niño_satpers_oros_b['GRAT'] = 'Satisfacción Personal'\n",
    "\n",
    "\n",
    "niña_emocion_oros_b = pd.DataFrame(OROS_EP_base_sexo[1][0], columns = ['Gratitud'])\n",
    "niña_emocion_oros_b['Sexo'] = 'Niña'\n",
    "niña_emocion_oros_b['GRAT'] = 'Emoción'\n",
    "\n",
    "\n",
    "niña_serenidad_oros_b = pd.DataFrame(OROS_EP_base_sexo[1][1], columns = ['Gratitud'])\n",
    "niña_serenidad_oros_b['Sexo'] = 'Niña'\n",
    "niña_serenidad_oros_b['GRAT'] = 'Serenidad'\n",
    "\n",
    "\n",
    "niña_simpatia_oros_b = pd.DataFrame(OROS_EP_base_sexo[1][2], columns = ['Gratitud'])\n",
    "niña_simpatia_oros_b['Sexo'] = 'Niña'\n",
    "niña_simpatia_oros_b['GRAT'] = 'Simpatía'\n",
    "\n",
    "\n",
    "niña_satpers_oros_b = pd.DataFrame(OROS_EP_base_sexo[1][3], columns = ['Gratitud'])\n",
    "niña_satpers_oros_b['Sexo'] = 'Niña'\n",
    "niña_satpers_oros_b['GRAT'] = 'Satisfacción Personal'\n",
    "\n",
    "\n",
    "\n",
    "GRAT_ep_all = pd.concat([niño_emocion_oros_b, niño_serenidad_oros_b, niño_simpatia_oros_b, niño_satpers_oros_b, niña_emocion_oros_b, niña_serenidad_oros_b, niña_simpatia_oros_b, niña_satpers_oros_b])"
   ]
  },
  {
   "cell_type": "markdown",
   "metadata": {},
   "source": [
    "<a id ='oros_ep_anova'></a>"
   ]
  },
  {
   "cell_type": "markdown",
   "metadata": {},
   "source": [
    "ANOVA\n",
    "\n",
    "\n",
    "Una prueba de hipótesis solo para ver si hay diferencias entre niños y niñas"
   ]
  },
  {
   "cell_type": "code",
   "execution_count": 504,
   "metadata": {},
   "outputs": [
    {
     "name": "stdout",
     "output_type": "stream",
     "text": [
      "p-value:  0.0 | Se asumen varianzanzas Desiguales\n"
     ]
    }
   ],
   "source": [
    "#ANOVA de dos factores (factor 1 = Sexo: Niño|Niña; factor 2 = subescala: Emoción|Serenidad|Simpatía|Satisfacción personal)\n",
    "\n",
    "# GRAT_all\n",
    "res = stat()\n",
    "res.levene(df=GRAT_ep_all.dropna(), res_var='Gratitud', xfac_var=['Sexo','GRAT'])\n",
    "res.levene_summary\n",
    "\n",
    "#Verificar si se cumple la supisición de varianzas iguales\n",
    "\n",
    "if res.levene_summary['Value'][2] < 0.05: \n",
    "    print('p-value: ', res.levene_summary['Value'][2],'|', 'Se asumen varianzanzas Desiguales')\n",
    "else: \n",
    "    print('p-value: ', res.levene_summary['Value'][2], '|', 'No se asumen varianzas iguales')"
   ]
  },
  {
   "cell_type": "code",
   "execution_count": 505,
   "metadata": {
    "scrolled": true
   },
   "outputs": [
    {
     "data": {
      "text/html": [
       "<div>\n",
       "<style scoped>\n",
       "    .dataframe tbody tr th:only-of-type {\n",
       "        vertical-align: middle;\n",
       "    }\n",
       "\n",
       "    .dataframe tbody tr th {\n",
       "        vertical-align: top;\n",
       "    }\n",
       "\n",
       "    .dataframe thead th {\n",
       "        text-align: right;\n",
       "    }\n",
       "</style>\n",
       "<table border=\"1\" class=\"dataframe\">\n",
       "  <thead>\n",
       "    <tr style=\"text-align: right;\">\n",
       "      <th></th>\n",
       "      <th>Parameter</th>\n",
       "      <th>Value</th>\n",
       "    </tr>\n",
       "  </thead>\n",
       "  <tbody>\n",
       "    <tr>\n",
       "      <td>0</td>\n",
       "      <td>Test statistics (W)</td>\n",
       "      <td>62.0725</td>\n",
       "    </tr>\n",
       "    <tr>\n",
       "      <td>1</td>\n",
       "      <td>Degrees of freedom (Df)</td>\n",
       "      <td>7.0000</td>\n",
       "    </tr>\n",
       "    <tr>\n",
       "      <td>2</td>\n",
       "      <td>p value</td>\n",
       "      <td>0.0000</td>\n",
       "    </tr>\n",
       "  </tbody>\n",
       "</table>\n",
       "</div>"
      ],
      "text/plain": [
       "                 Parameter    Value\n",
       "0      Test statistics (W)  62.0725\n",
       "1  Degrees of freedom (Df)   7.0000\n",
       "2                  p value   0.0000"
      ]
     },
     "execution_count": 505,
     "metadata": {},
     "output_type": "execute_result"
    }
   ],
   "source": [
    "res.levene_summary"
   ]
  },
  {
   "cell_type": "markdown",
   "metadata": {},
   "source": [
    "Hay que buscar una versión no paramétrica para el análisis"
   ]
  },
  {
   "cell_type": "code",
   "execution_count": 506,
   "metadata": {},
   "outputs": [
    {
     "name": "stdout",
     "output_type": "stream",
     "text": [
      "Overall model F( 7, 5626) =  92.292, p =  0.0000\n"
     ]
    },
    {
     "data": {
      "text/html": [
       "<table class=\"simpletable\">\n",
       "<caption>OLS Regression Results</caption>\n",
       "<tr>\n",
       "  <th>Dep. Variable:</th>        <td>Gratitud</td>     <th>  R-squared:         </th> <td>   0.103</td> \n",
       "</tr>\n",
       "<tr>\n",
       "  <th>Model:</th>                   <td>OLS</td>       <th>  Adj. R-squared:    </th> <td>   0.102</td> \n",
       "</tr>\n",
       "<tr>\n",
       "  <th>Method:</th>             <td>Least Squares</td>  <th>  F-statistic:       </th> <td>   92.29</td> \n",
       "</tr>\n",
       "<tr>\n",
       "  <th>Date:</th>             <td>Mon, 07 Jun 2021</td> <th>  Prob (F-statistic):</th> <td>6.87e-128</td>\n",
       "</tr>\n",
       "<tr>\n",
       "  <th>Time:</th>                 <td>11:43:06</td>     <th>  Log-Likelihood:    </th> <td> -5421.3</td> \n",
       "</tr>\n",
       "<tr>\n",
       "  <th>No. Observations:</th>      <td>  5634</td>      <th>  AIC:               </th> <td>1.086e+04</td>\n",
       "</tr>\n",
       "<tr>\n",
       "  <th>Df Residuals:</th>          <td>  5626</td>      <th>  BIC:               </th> <td>1.091e+04</td>\n",
       "</tr>\n",
       "<tr>\n",
       "  <th>Df Model:</th>              <td>     7</td>      <th>                     </th>     <td> </td>    \n",
       "</tr>\n",
       "<tr>\n",
       "  <th>Covariance Type:</th>      <td>nonrobust</td>    <th>                     </th>     <td> </td>    \n",
       "</tr>\n",
       "</table>\n",
       "<table class=\"simpletable\">\n",
       "<tr>\n",
       "                       <td></td>                         <th>coef</th>     <th>std err</th>      <th>t</th>      <th>P>|t|</th>  <th>[0.025</th>    <th>0.975]</th>  \n",
       "</tr>\n",
       "<tr>\n",
       "  <th>Intercept</th>                                  <td>    1.2693</td> <td>    0.023</td> <td>   55.388</td> <td> 0.000</td> <td>    1.224</td> <td>    1.314</td>\n",
       "</tr>\n",
       "<tr>\n",
       "  <th>Sexo[T.Niño]</th>                               <td>   -0.0130</td> <td>    0.032</td> <td>   -0.407</td> <td> 0.684</td> <td>   -0.076</td> <td>    0.050</td>\n",
       "</tr>\n",
       "<tr>\n",
       "  <th>GRAT[T.Satisfacción Personal]</th>              <td>    0.0575</td> <td>    0.037</td> <td>    1.537</td> <td> 0.124</td> <td>   -0.016</td> <td>    0.131</td>\n",
       "</tr>\n",
       "<tr>\n",
       "  <th>GRAT[T.Serenidad]</th>                          <td>    0.4377</td> <td>    0.031</td> <td>   14.106</td> <td> 0.000</td> <td>    0.377</td> <td>    0.499</td>\n",
       "</tr>\n",
       "<tr>\n",
       "  <th>GRAT[T.Simpatía]</th>                           <td>    0.4268</td> <td>    0.034</td> <td>   12.416</td> <td> 0.000</td> <td>    0.359</td> <td>    0.494</td>\n",
       "</tr>\n",
       "<tr>\n",
       "  <th>Sexo[T.Niño]:GRAT[T.Satisfacción Personal]</th> <td>    0.0654</td> <td>    0.052</td> <td>    1.250</td> <td> 0.212</td> <td>   -0.037</td> <td>    0.168</td>\n",
       "</tr>\n",
       "<tr>\n",
       "  <th>Sexo[T.Niño]:GRAT[T.Serenidad]</th>             <td>    0.0977</td> <td>    0.043</td> <td>    2.252</td> <td> 0.024</td> <td>    0.013</td> <td>    0.183</td>\n",
       "</tr>\n",
       "<tr>\n",
       "  <th>Sexo[T.Niño]:GRAT[T.Simpatía]</th>              <td>   -0.0534</td> <td>    0.048</td> <td>   -1.110</td> <td> 0.267</td> <td>   -0.148</td> <td>    0.041</td>\n",
       "</tr>\n",
       "</table>\n",
       "<table class=\"simpletable\">\n",
       "<tr>\n",
       "  <th>Omnibus:</th>       <td>483.803</td> <th>  Durbin-Watson:     </th> <td>   1.796</td> \n",
       "</tr>\n",
       "<tr>\n",
       "  <th>Prob(Omnibus):</th> <td> 0.000</td>  <th>  Jarque-Bera (JB):  </th> <td> 617.081</td> \n",
       "</tr>\n",
       "<tr>\n",
       "  <th>Skew:</th>          <td> 0.809</td>  <th>  Prob(JB):          </th> <td>1.01e-134</td>\n",
       "</tr>\n",
       "<tr>\n",
       "  <th>Kurtosis:</th>      <td> 2.883</td>  <th>  Cond. No.          </th> <td>    12.3</td> \n",
       "</tr>\n",
       "</table><br/><br/>Warnings:<br/>[1] Standard Errors assume that the covariance matrix of the errors is correctly specified."
      ],
      "text/plain": [
       "<class 'statsmodels.iolib.summary.Summary'>\n",
       "\"\"\"\n",
       "                            OLS Regression Results                            \n",
       "==============================================================================\n",
       "Dep. Variable:               Gratitud   R-squared:                       0.103\n",
       "Model:                            OLS   Adj. R-squared:                  0.102\n",
       "Method:                 Least Squares   F-statistic:                     92.29\n",
       "Date:                Mon, 07 Jun 2021   Prob (F-statistic):          6.87e-128\n",
       "Time:                        11:43:06   Log-Likelihood:                -5421.3\n",
       "No. Observations:                5634   AIC:                         1.086e+04\n",
       "Df Residuals:                    5626   BIC:                         1.091e+04\n",
       "Df Model:                           7                                         \n",
       "Covariance Type:            nonrobust                                         \n",
       "==============================================================================================================\n",
       "                                                 coef    std err          t      P>|t|      [0.025      0.975]\n",
       "--------------------------------------------------------------------------------------------------------------\n",
       "Intercept                                      1.2693      0.023     55.388      0.000       1.224       1.314\n",
       "Sexo[T.Niño]                                  -0.0130      0.032     -0.407      0.684      -0.076       0.050\n",
       "GRAT[T.Satisfacción Personal]                  0.0575      0.037      1.537      0.124      -0.016       0.131\n",
       "GRAT[T.Serenidad]                              0.4377      0.031     14.106      0.000       0.377       0.499\n",
       "GRAT[T.Simpatía]                               0.4268      0.034     12.416      0.000       0.359       0.494\n",
       "Sexo[T.Niño]:GRAT[T.Satisfacción Personal]     0.0654      0.052      1.250      0.212      -0.037       0.168\n",
       "Sexo[T.Niño]:GRAT[T.Serenidad]                 0.0977      0.043      2.252      0.024       0.013       0.183\n",
       "Sexo[T.Niño]:GRAT[T.Simpatía]                 -0.0534      0.048     -1.110      0.267      -0.148       0.041\n",
       "==============================================================================\n",
       "Omnibus:                      483.803   Durbin-Watson:                   1.796\n",
       "Prob(Omnibus):                  0.000   Jarque-Bera (JB):              617.081\n",
       "Skew:                           0.809   Prob(JB):                    1.01e-134\n",
       "Kurtosis:                       2.883   Cond. No.                         12.3\n",
       "==============================================================================\n",
       "\n",
       "Warnings:\n",
       "[1] Standard Errors assume that the covariance matrix of the errors is correctly specified.\n",
       "\"\"\""
      ]
     },
     "execution_count": 506,
     "metadata": {},
     "output_type": "execute_result"
    }
   ],
   "source": [
    "#perform two-way ANOVA\n",
    "\n",
    "formula = 'Gratitud ~ Sexo + GRAT + Sexo:GRAT'\n",
    "#formula = 'IndiceEficiencia ~  rango_edad'\n",
    "\n",
    "model = sm.formula.ols(formula, data= GRAT_ep_all).fit()\n",
    "print(f\"Overall model F({model.df_model: .0f},{model.df_resid: .0f}) = {model.fvalue: .3f}, p = {model.f_pvalue: .4f}\")\n",
    "model.summary()\n",
    "# Perform ANOVA and print table\n",
    "# aov_table = sm.stats.anova_lm(model, typ=2)\n",
    "# print(aov_table)"
   ]
  },
  {
   "cell_type": "code",
   "execution_count": 471,
   "metadata": {},
   "outputs": [
    {
     "data": {
      "text/html": [
       "<div>\n",
       "<style scoped>\n",
       "    .dataframe tbody tr th:only-of-type {\n",
       "        vertical-align: middle;\n",
       "    }\n",
       "\n",
       "    .dataframe tbody tr th {\n",
       "        vertical-align: top;\n",
       "    }\n",
       "\n",
       "    .dataframe thead th {\n",
       "        text-align: right;\n",
       "    }\n",
       "</style>\n",
       "<table border=\"1\" class=\"dataframe\">\n",
       "  <thead>\n",
       "    <tr style=\"text-align: right;\">\n",
       "      <th></th>\n",
       "      <th>sum_sq</th>\n",
       "      <th>df</th>\n",
       "      <th>mean_sq</th>\n",
       "      <th>F</th>\n",
       "      <th>PR(&gt;F)</th>\n",
       "      <th>eta_sq</th>\n",
       "      <th>omega_sq</th>\n",
       "    </tr>\n",
       "  </thead>\n",
       "  <tbody>\n",
       "    <tr>\n",
       "      <td>Sexo</td>\n",
       "      <td>4.729857</td>\n",
       "      <td>1.0</td>\n",
       "      <td>4.729857</td>\n",
       "      <td>2.989467</td>\n",
       "      <td>0.083844</td>\n",
       "      <td>0.000253</td>\n",
       "      <td>0.000168</td>\n",
       "    </tr>\n",
       "    <tr>\n",
       "      <td>GRAT</td>\n",
       "      <td>5175.153659</td>\n",
       "      <td>4.0</td>\n",
       "      <td>1293.788415</td>\n",
       "      <td>817.728235</td>\n",
       "      <td>0.000000</td>\n",
       "      <td>0.276706</td>\n",
       "      <td>0.276345</td>\n",
       "    </tr>\n",
       "    <tr>\n",
       "      <td>Sexo:GRAT</td>\n",
       "      <td>17.367341</td>\n",
       "      <td>4.0</td>\n",
       "      <td>4.341835</td>\n",
       "      <td>2.744221</td>\n",
       "      <td>0.026891</td>\n",
       "      <td>0.000929</td>\n",
       "      <td>0.000590</td>\n",
       "    </tr>\n",
       "    <tr>\n",
       "      <td>Residual</td>\n",
       "      <td>13505.437920</td>\n",
       "      <td>8536.0</td>\n",
       "      <td>1.582174</td>\n",
       "      <td>NaN</td>\n",
       "      <td>NaN</td>\n",
       "      <td>NaN</td>\n",
       "      <td>NaN</td>\n",
       "    </tr>\n",
       "  </tbody>\n",
       "</table>\n",
       "</div>"
      ],
      "text/plain": [
       "                 sum_sq      df      mean_sq           F    PR(>F)    eta_sq  \\\n",
       "Sexo           4.729857     1.0     4.729857    2.989467  0.083844  0.000253   \n",
       "GRAT        5175.153659     4.0  1293.788415  817.728235  0.000000  0.276706   \n",
       "Sexo:GRAT     17.367341     4.0     4.341835    2.744221  0.026891  0.000929   \n",
       "Residual   13505.437920  8536.0     1.582174         NaN       NaN       NaN   \n",
       "\n",
       "           omega_sq  \n",
       "Sexo       0.000168  \n",
       "GRAT       0.276345  \n",
       "Sexo:GRAT  0.000590  \n",
       "Residual        NaN  "
      ]
     },
     "execution_count": 471,
     "metadata": {},
     "output_type": "execute_result"
    }
   ],
   "source": [
    "anova_table(aov_table)"
   ]
  },
  {
   "cell_type": "markdown",
   "metadata": {},
   "source": [
    "POST HOC"
   ]
  },
  {
   "cell_type": "code",
   "execution_count": 399,
   "metadata": {},
   "outputs": [
    {
     "data": {
      "text/html": [
       "<div>\n",
       "<style scoped>\n",
       "    .dataframe tbody tr th:only-of-type {\n",
       "        vertical-align: middle;\n",
       "    }\n",
       "\n",
       "    .dataframe tbody tr th {\n",
       "        vertical-align: top;\n",
       "    }\n",
       "\n",
       "    .dataframe thead th {\n",
       "        text-align: right;\n",
       "    }\n",
       "</style>\n",
       "<table border=\"1\" class=\"dataframe\">\n",
       "  <thead>\n",
       "    <tr style=\"text-align: right;\">\n",
       "      <th></th>\n",
       "      <th>coef</th>\n",
       "      <th>std err</th>\n",
       "      <th>t</th>\n",
       "      <th>P&gt;|t|</th>\n",
       "      <th>Conf. Int. Low</th>\n",
       "      <th>Conf. Int. Upp.</th>\n",
       "      <th>pvalue-hs</th>\n",
       "      <th>reject-hs</th>\n",
       "    </tr>\n",
       "  </thead>\n",
       "  <tbody>\n",
       "    <tr>\n",
       "      <td>Satisfacción Personal-Emoción</td>\n",
       "      <td>0.057516</td>\n",
       "      <td>0.037422</td>\n",
       "      <td>1.536971</td>\n",
       "      <td>1.243568e-01</td>\n",
       "      <td>-0.015845</td>\n",
       "      <td>0.130878</td>\n",
       "      <td>0.233249</td>\n",
       "      <td>False</td>\n",
       "    </tr>\n",
       "    <tr>\n",
       "      <td>Serenidad-Emoción</td>\n",
       "      <td>0.437691</td>\n",
       "      <td>0.031029</td>\n",
       "      <td>14.106043</td>\n",
       "      <td>1.978757e-44</td>\n",
       "      <td>0.376863</td>\n",
       "      <td>0.498519</td>\n",
       "      <td>0.000000</td>\n",
       "      <td>True</td>\n",
       "    </tr>\n",
       "    <tr>\n",
       "      <td>Simpatía-Emoción</td>\n",
       "      <td>0.426797</td>\n",
       "      <td>0.034374</td>\n",
       "      <td>12.416213</td>\n",
       "      <td>6.102964e-35</td>\n",
       "      <td>0.359411</td>\n",
       "      <td>0.494184</td>\n",
       "      <td>0.000000</td>\n",
       "      <td>True</td>\n",
       "    </tr>\n",
       "    <tr>\n",
       "      <td>Serenidad-Satisfacción Personal</td>\n",
       "      <td>0.380174</td>\n",
       "      <td>0.036234</td>\n",
       "      <td>10.492317</td>\n",
       "      <td>1.609979e-25</td>\n",
       "      <td>0.309142</td>\n",
       "      <td>0.451206</td>\n",
       "      <td>0.000000</td>\n",
       "      <td>True</td>\n",
       "    </tr>\n",
       "    <tr>\n",
       "      <td>Simpatía-Satisfacción Personal</td>\n",
       "      <td>0.369281</td>\n",
       "      <td>0.039137</td>\n",
       "      <td>9.435660</td>\n",
       "      <td>5.548880e-21</td>\n",
       "      <td>0.292558</td>\n",
       "      <td>0.446004</td>\n",
       "      <td>0.000000</td>\n",
       "      <td>True</td>\n",
       "    </tr>\n",
       "    <tr>\n",
       "      <td>Simpatía-Serenidad</td>\n",
       "      <td>-0.010893</td>\n",
       "      <td>0.033077</td>\n",
       "      <td>-0.329334</td>\n",
       "      <td>7.419155e-01</td>\n",
       "      <td>-0.075736</td>\n",
       "      <td>0.053950</td>\n",
       "      <td>0.741915</td>\n",
       "      <td>False</td>\n",
       "    </tr>\n",
       "  </tbody>\n",
       "</table>\n",
       "</div>"
      ],
      "text/plain": [
       "                                     coef   std err          t         P>|t|  \\\n",
       "Satisfacción Personal-Emoción    0.057516  0.037422   1.536971  1.243568e-01   \n",
       "Serenidad-Emoción                0.437691  0.031029  14.106043  1.978757e-44   \n",
       "Simpatía-Emoción                 0.426797  0.034374  12.416213  6.102964e-35   \n",
       "Serenidad-Satisfacción Personal  0.380174  0.036234  10.492317  1.609979e-25   \n",
       "Simpatía-Satisfacción Personal   0.369281  0.039137   9.435660  5.548880e-21   \n",
       "Simpatía-Serenidad              -0.010893  0.033077  -0.329334  7.419155e-01   \n",
       "\n",
       "                                 Conf. Int. Low  Conf. Int. Upp.  pvalue-hs  \\\n",
       "Satisfacción Personal-Emoción         -0.015845         0.130878   0.233249   \n",
       "Serenidad-Emoción                      0.376863         0.498519   0.000000   \n",
       "Simpatía-Emoción                       0.359411         0.494184   0.000000   \n",
       "Serenidad-Satisfacción Personal        0.309142         0.451206   0.000000   \n",
       "Simpatía-Satisfacción Personal         0.292558         0.446004   0.000000   \n",
       "Simpatía-Serenidad                    -0.075736         0.053950   0.741915   \n",
       "\n",
       "                                 reject-hs  \n",
       "Satisfacción Personal-Emoción        False  \n",
       "Serenidad-Emoción                     True  \n",
       "Simpatía-Emoción                      True  \n",
       "Serenidad-Satisfacción Personal       True  \n",
       "Simpatía-Satisfacción Personal        True  \n",
       "Simpatía-Serenidad                   False  "
      ]
     },
     "execution_count": 399,
     "metadata": {},
     "output_type": "execute_result"
    }
   ],
   "source": [
    "pair_t = model.t_test_pairwise('GRAT')\n",
    "pair_t.result_frame"
   ]
  },
  {
   "cell_type": "markdown",
   "metadata": {},
   "source": [
    "<a id ='oros_ep_plot'></a>"
   ]
  },
  {
   "cell_type": "markdown",
   "metadata": {},
   "source": [
    "______"
   ]
  },
  {
   "cell_type": "markdown",
   "metadata": {},
   "source": [
    "GRÁFICO"
   ]
  },
  {
   "cell_type": "code",
   "execution_count": 409,
   "metadata": {
    "scrolled": false
   },
   "outputs": [
    {
     "data": {
      "text/plain": [
       "<matplotlib.legend.Legend at 0x22a8de30>"
      ]
     },
     "execution_count": 409,
     "metadata": {},
     "output_type": "execute_result"
    },
    {
     "data": {
      "image/png": "[encoded data removed]",
      "text/plain": [
       "<Figure size 504x360 with 1 Axes>"
      ]
     },
     "metadata": {
      "needs_background": "light"
     },
     "output_type": "display_data"
    }
   ],
   "source": [
    "OROS_EP_MEDIAS = [np.nanmean(OROS_EP_EMOCION), np.nanmean(OROS_EP_SIMPATIA), np.nanmean(OROS_EP_SERENIDAD), np.nanmean(OROS_EP_SAT_PERS)]\n",
    "OROS_EP_SEM = [stats.sem(OROS_EP_EMOCION, nan_policy = 'omit'), stats.sem(OROS_EP_SIMPATIA, nan_policy = 'omit'), stats.sem(OROS_EP_SERENIDAD, nan_policy = 'omit'), stats.sem(OROS_EP_SAT_PERS, nan_policy = 'omit')]\n",
    "\n",
    "#Niño\n",
    "OROS_EP_MEDIAS_niño = [np.nanmean(OROS_EP_base_sexo[0][0]), np.nanmean(OROS_EP_base_sexo[0][1]), np.nanmean(OROS_EP_base_sexo[0][2]), np.nanmean(OROS_EP_base_sexo[0][3])]\n",
    "OROS_EP_SEM_niño = [stats.sem(OROS_EP_base_sexo[0][0], nan_policy = 'omit'), stats.sem(OROS_EP_base_sexo[0][1], nan_policy = 'omit'), stats.sem(OROS_EP_base_sexo[0][2], nan_policy = 'omit'), stats.sem(OROS_EP_base_sexo[0][3], nan_policy = 'omit')]\n",
    "\n",
    "#Niña\n",
    "OROS_EP_MEDIAS_niña = [np.nanmean(OROS_EP_base_sexo[1][0]), np.nanmean(OROS_EP_base_sexo[1][1]), np.nanmean(OROS_EP_base_sexo[1][2]), np.nanmean(OROS_EP_base_sexo[1][3])]\n",
    "OROS_EP_SEM_niña = [stats.sem(OROS_EP_base_sexo[1][0], nan_policy = 'omit'), stats.sem(OROS_EP_base_sexo[1][1], nan_policy = 'omit'), stats.sem(OROS_EP_base_sexo[1][2], nan_policy = 'omit'), stats.sem(OROS_EP_base_sexo[1][3], nan_policy = 'omit')]\n",
    "\n",
    "label = ['Emoción', 'Serenidad', 'simpatía', 'Satisf.Personal']\n",
    "\n",
    "\n",
    "plt.figure(figsize = (7,5))\n",
    "# plt.errorbar(label, OROS_EP_MEDIAS, OROS_EP_SEM, color='midnightblue', linewidth=4, capsize =4, label = 'Todos')\n",
    "plt.errorbar(label, OROS_EP_MEDIAS_niño, OROS_EP_SEM_niño, color='orange', dashes = [0.7, 0.7], linewidth=4, capsize =4, label = 'Niño')\n",
    "plt.errorbar(label, OROS_EP_MEDIAS_niña, OROS_EP_SEM_niña, color='deepskyblue', dashes = [0.7, 0.7], linewidth=4, capsize =4, label = 'Niña')\n",
    "\n",
    "plt.xticks(rotation=0, size=20)\n",
    "plt.yticks(size=15)\n",
    "plt.ylim(1.2,2)\n",
    "plt.ylabel('Puntaje promedio', size = 20)\n",
    "plt.legend(loc='upper left', prop={'size': 15})\n",
    "# plt.grid(True, linewidth=0.5, color='k', linestyle='-')\n"
   ]
  },
  {
   "cell_type": "markdown",
   "metadata": {},
   "source": [
    "<a id ='MCGM'></a>"
   ]
  },
  {
   "cell_type": "markdown",
   "metadata": {},
   "source": [
    "# ANÁLISIS MCGM"
   ]
  },
  {
   "cell_type": "markdown",
   "metadata": {},
   "source": [
    "<a href='#top2'> SUBIR A DESCRIPTIVOS </a>\n",
    "\n",
    "\n",
    "<a href='#mcgm_anova'> ANOVA </a>\n",
    "\n",
    "\n",
    "<a href='#mcgm_plot'> PLOT </a>\n"
   ]
  },
  {
   "cell_type": "markdown",
   "metadata": {},
   "source": [
    "Descriptivos a nivel general: \n",
    "\n",
    "Media\n",
    "\n",
    "Desviación Estandar\n",
    "\n",
    "Intervalo de confianza del 95%"
   ]
  },
  {
   "cell_type": "code",
   "execution_count": 461,
   "metadata": {},
   "outputs": [
    {
     "name": "stdout",
     "output_type": "stream",
     "text": [
      "MCGM_F1F2 =  Media:  4.25716084356311 | SD:  [0.027812262269327277 0.05027689138640041 0.04322712276488418\n",
      " 0.04402262572388851 0.05214628067688227 0.048218492742785134\n",
      " 0.046539527300683524 0.04275612208833835 0.04841012382720128\n",
      " 0.04381612064019824] | 95%CI:  [4.122776626921753, 4.391545060204467]\n",
      "\n",
      "MCGM_F3 =  Media:  3.0235725510738605 | SD:  [0.027812262269327277 0.08635693410859673 0.08227807162115414\n",
      " 0.08669323215073799 0.08999656308375374 0.08998746471006787] | 95%CI:  [2.849619707072668, 3.197525395075053]\n",
      "\n",
      "MCGM_F4 =  Media:  2.1278337531486144 | SD:  [0.027812262269327277 0.0760854968488932 0.07848453685528725\n",
      " 0.0786431643943824 0.08165401890448788] | 95%CI:  [1.9853494922329515, 2.2703180140642774]\n",
      "\n",
      "MCGM_F5 =  Media:  3.10031512605042 | SD:  [0.027812262269327277 0.08314179007607024 0.0821833734174278\n",
      " 0.07874497050089801 0.07533236755379101 0.07856328366507814] | 95%CI:  [2.9367181746370528, 3.2639120774637873]\n",
      "\n",
      "MCGM_F6 =  Media:  3.5516372795969775 | SD:  [0.027812262269327277 0.07494904160825912 0.0659574980419667\n",
      " 0.0683194457239049 0.07212422227910249] | 95%CI:  [3.383001218995584, 3.720273340198371]\n"
     ]
    }
   ],
   "source": [
    "print('MCGM_F1F2 = ', 'Media: ', np.nanmean(MCGM_F1F2), '| SD: ', stats.sem(MCGM_F1F2, nan_policy = 'omit'), '| 95%CI: ', ci951(MCGM_F1F2))\n",
    "print()\n",
    "print('MCGM_F3 = ', 'Media: ', np.nanmean(MCGM_F3), '| SD: ', stats.sem(MCGM_F3, nan_policy = 'omit'), '| 95%CI: ', ci951(MCGM_F3))\n",
    "print()\n",
    "print('MCGM_F4 = ', 'Media: ', np.nanmean(MCGM_F4), '| SD: ', stats.sem(MCGM_F4, nan_policy = 'omit'), '| 95%CI: ', ci951(MCGM_F4))\n",
    "print()\n",
    "print('MCGM_F5 = ', 'Media: ', np.nanmean(MCGM_F5), '| SD: ', stats.sem(MCGM_F5, nan_policy = 'omit'), '| 95%CI: ', ci951(MCGM_F5))\n",
    "print()\n",
    "print('MCGM_F6 = ', 'Media: ', np.nanmean(MCGM_F6), '| SD: ', stats.sem(MCGM_F6, nan_policy = 'omit'), '| 95%CI: ', ci951(MCGM_F6))"
   ]
  },
  {
   "cell_type": "markdown",
   "metadata": {},
   "source": [
    "Divido la base por sexo para ver explorar si hay diferencias por sexo"
   ]
  },
  {
   "cell_type": "code",
   "execution_count": 462,
   "metadata": {},
   "outputs": [
    {
     "name": "stdout",
     "output_type": "stream",
     "text": [
      "1.0\n",
      "2.0\n"
     ]
    }
   ],
   "source": [
    "mcgm_sexo = []\n",
    "for sexo, mcgm_sex in MCGM.groupby('Sexo'):\n",
    "    \n",
    "    mcgm_f1f2_sex = np.concatenate([mcgm_sex['MCGM_1'],mcgm_sex['MCGM_2'],mcgm_sex['MCGM_3'], mcgm_sex['MCGM_4'],mcgm_sex['MCGM_5'],\n",
    "                                    mcgm_sex['MCGM_6'],mcgm_sex['MCGM_8'], mcgm_sex['MCGM_9'],mcgm_sex['MCGM_10']])\n",
    "    mcgm_f3_sex = np.concatenate([mcgm_sex['MCGM_11'], mcgm_sex['MCGM_12'], mcgm_sex['MCGM_13'],mcgm_sex['MCGM_14'],mcgm_sex['MCGM_15']])\n",
    "    mcgm_f4_sex = np.concatenate([mcgm_sex['MCGM_17'], mcgm_sex['MCGM_18'],mcgm_sex['MCGM_19'],mcgm_sex['MCGM_20']])\n",
    "    mcgm_f5_sex = np.concatenate([mcgm_sex['MCGM_21'],mcgm_sex['MCGM_22'],mcgm_sex['MCGM_23'], mcgm_sex['MCGM_24'], mcgm_sex['MCGM_25']])\n",
    "    mcgm_f6_sex = np.concatenate([mcgm_sex['MCGM_26'],mcgm_sex['MCGM_27'],mcgm_sex['MCGM_28'], mcgm_sex['MCGM_29']])\n",
    "\n",
    "        \n",
    "    mcgm_sexo.append([mcgm_f1f2_sex, mcgm_f3_sex, mcgm_f4_sex, mcgm_f5_sex, mcgm_f6_sex])  \n",
    "    print(sexo)\n",
    "\n",
    "\n",
    "niño_mcgmf1f2 = mcgm_sexo[0][0]\n",
    "niño_mcgmf3 = mcgm_sexo[0][1]\n",
    "niño_mcgmf4 = mcgm_sexo[0][2]\n",
    "niño_mcgmf5 = mcgm_sexo[0][3]\n",
    "niño_mcgmf6 = mcgm_sexo[0][4]\n",
    "\n",
    "niña_mcgmf1f2 = mcgm_sexo[1][0]\n",
    "niña_mcgmf3 = mcgm_sexo[1][1]\n",
    "niña_mcgmf4 = mcgm_sexo[1][2]\n",
    "niña_mcgmf5 = mcgm_sexo[1][3]\n",
    "niña_mcgmf6 = mcgm_sexo[1][4]\n"
   ]
  },
  {
   "cell_type": "markdown",
   "metadata": {},
   "source": [
    "Descriptivo SEXO"
   ]
  },
  {
   "cell_type": "markdown",
   "metadata": {},
   "source": [
    "Niño"
   ]
  },
  {
   "cell_type": "code",
   "execution_count": 463,
   "metadata": {},
   "outputs": [
    {
     "name": "stdout",
     "output_type": "stream",
     "text": [
      "MCGM F1F2 =  Media:  4.585048010973937 | SD:  0.02201914169833807 | 95%CI:  [4.542428257355995, 4.6276677645918785]\n",
      "\n",
      "MCGM F3 =  Media:  3.365432098765432 | SD:  0.05381608785094161 | 95%CI:  [3.261295495049196, 3.469568702481668]\n",
      "\n",
      "MCGM F4 =  Media:  2.2098765432098766 | SD:  0.05362115698539366 | 95%CI:  [2.1061331729637622, 2.313619913455991]\n",
      "\n",
      "MCGM F5 =  Media:  3.3740740740740742 | SD:  0.04986905522139215 | 95%CI:  [3.2775751599263723, 3.470572988221776]\n",
      "\n",
      "MCGM F6 =  Media:  4.013888888888889 | SD:  0.051935899576456446 | 95%CI:  [3.9134060652845233, 4.114371712493256]\n"
     ]
    }
   ],
   "source": [
    "print('MCGM F1F2 = ', 'Media: ', np.nanmean(niño_mcgmf1f2), '| SD: ', stats.sem(niño_mcgmf1f2, nan_policy = 'omit'), '| 95%CI: ', ci951(niño_mcgmf1f2))\n",
    "print()\n",
    "print('MCGM F3 = ', 'Media: ', np.nanmean(niño_mcgmf3), '| SD: ', stats.sem(niño_mcgmf3, nan_policy = 'omit'), '| 95%CI: ', ci951(niño_mcgmf3))\n",
    "print()\n",
    "print('MCGM F4 = ', 'Media: ', np.nanmean(niño_mcgmf4), '| SD: ', stats.sem(niño_mcgmf4, nan_policy = 'omit'), '| 95%CI: ', ci951(niño_mcgmf4))\n",
    "print()\n",
    "print('MCGM F5 = ', 'Media: ', np.nanmean(niño_mcgmf5), '| SD: ', stats.sem(niño_mcgmf5, nan_policy = 'omit'), '| 95%CI: ', ci951(niño_mcgmf5))\n",
    "print()\n",
    "print('MCGM F6 = ', 'Media: ', np.nanmean(niño_mcgmf6), '| SD: ', stats.sem(niño_mcgmf6, nan_policy = 'omit'), '| 95%CI: ', ci951(niño_mcgmf6))\n",
    "\n"
   ]
  },
  {
   "cell_type": "markdown",
   "metadata": {},
   "source": [
    "Niña"
   ]
  },
  {
   "cell_type": "code",
   "execution_count": 464,
   "metadata": {},
   "outputs": [
    {
     "name": "stdout",
     "output_type": "stream",
     "text": [
      "MCGM F1F2  =  Media:  4.557706093189964 | SD:  0.022219833381683863 | 95%CI:  [4.514586122393853, 4.600826063986075]\n",
      "\n",
      "MCGM F3 =  Media:  3.3083870967741937 | SD:  0.05732638181179052 | 95%CI:  [3.197171028457061, 3.4196031650913263]\n",
      "\n",
      "MCGM F4 =  Media:  2.3782467532467533 | SD:  0.057599273822486696 | 95%CI:  [2.266880887331212, 2.4896126191622945]\n",
      "\n",
      "MCGM f5 =  Media:  3.4909090909090907 | SD:  0.05143370927376936 | 95%CI:  [3.3914479260338553, 3.5903702557843262]\n",
      "\n",
      "MCGM F6 =  Media:  4.150974025974026 | SD:  0.04756113536772482 | 95%CI:  [4.059016494695479, 4.242931557252573]\n"
     ]
    }
   ],
   "source": [
    "\n",
    "print('MCGM F1F2  = ', 'Media: ', np.nanmean(niña_mcgmf1f2), '| SD: ', stats.sem(niña_mcgmf1f2, nan_policy = 'omit'), '| 95%CI: ', ci951(niña_mcgmf1f2))\n",
    "print()\n",
    "print('MCGM F3 = ', 'Media: ', np.nanmean(niña_mcgmf3), '| SD: ', stats.sem(niña_mcgmf3, nan_policy = 'omit'), '| 95%CI: ', ci951(niña_mcgmf3))\n",
    "print()\n",
    "print('MCGM F4 = ', 'Media: ', np.nanmean(niña_mcgmf4), '| SD: ', stats.sem(niña_mcgmf4, nan_policy = 'omit'), '| 95%CI: ', ci951(niña_mcgmf4))\n",
    "print()\n",
    "print('MCGM f5 = ', 'Media: ', np.nanmean(niña_mcgmf5), '| SD: ', stats.sem(niña_mcgmf5, nan_policy = 'omit'), '| 95%CI: ', ci951(niña_mcgmf5))\n",
    "print()\n",
    "print('MCGM F6 = ', 'Media: ', np.nanmean(niña_mcgmf6), '| SD: ', stats.sem(niña_mcgmf6, nan_policy = 'omit'), '| 95%CI: ', ci951(niña_mcgmf6))\n",
    "\n"
   ]
  },
  {
   "cell_type": "markdown",
   "metadata": {},
   "source": [
    "_____________"
   ]
  },
  {
   "cell_type": "code",
   "execution_count": 468,
   "metadata": {},
   "outputs": [],
   "source": [
    "niño_mcgm_f1f2 = pd.DataFrame(mcgm_sexo[0][0], columns = ['Gratitud'])\n",
    "niño_mcgm_f1f2['Sexo'] = 'Niño'\n",
    "niño_mcgm_f1f2['GRAT'] = 'Emocion|Actitud para gratitud'\n",
    "\n",
    "\n",
    "niño_mcgm_f3 = pd.DataFrame(mcgm_sexo[0][1], columns = ['Gratitud'])\n",
    "niño_mcgm_f3['Sexo'] = 'Niño'\n",
    "niño_mcgm_f3['GRAT'] = 'Actitudes de oportunidad'\n",
    "\n",
    "\n",
    "niño_mcgm_f4 = pd.DataFrame(mcgm_sexo[0][2], columns = ['Gratitud'])\n",
    "niño_mcgm_f4['Sexo'] = 'Niño'\n",
    "niño_mcgm_f4['GRAT'] = 'Defectos de comportamiento'\n",
    "\n",
    "\n",
    "niño_mcgm_f5 = pd.DataFrame(mcgm_sexo[0][3], columns = ['Gratitud'])\n",
    "niño_mcgm_f5['Sexo'] = 'Niño'\n",
    "niño_mcgm_f5['GRAT'] = 'Rituales/notar beneficios'\n",
    "\n",
    "\n",
    "niño_mcgm_f6 = pd.DataFrame(mcgm_sexo[0][4], columns = ['Gratitud'])\n",
    "niño_mcgm_f6['Sexo'] = 'Niño'\n",
    "niño_mcgm_f6['GRAT'] = 'Expresiones de gratitud'\n",
    "\n",
    "\n",
    "\n",
    "niña_mcgm_f1f2 = pd.DataFrame(mcgm_sexo[1][0], columns = ['Gratitud'])\n",
    "niña_mcgm_f1f2['Sexo'] = 'Niña'\n",
    "niña_mcgm_f1f2['GRAT'] = 'Emocion|Actitud para gratitud'\n",
    "\n",
    "\n",
    "niña_mcgm_f3 = pd.DataFrame(mcgm_sexo[1][1], columns = ['Gratitud'])\n",
    "niña_mcgm_f3['Sexo'] = 'Niña'\n",
    "niña_mcgm_f3['GRAT'] = 'Actitudes de oportunidad'\n",
    "\n",
    "\n",
    "niña_mcgm_f4 = pd.DataFrame(mcgm_sexo[1][2], columns = ['Gratitud'])\n",
    "niña_mcgm_f4['Sexo'] = 'Niña'\n",
    "niña_mcgm_f4['GRAT'] = 'Defectos de comportamiento'\n",
    "\n",
    "\n",
    "niña_mcgm_f5 = pd.DataFrame(mcgm_sexo[1][3], columns = ['Gratitud'])\n",
    "niña_mcgm_f5['Sexo'] = 'Niña'\n",
    "niña_mcgm_f5['GRAT'] = 'Rituales/notar beneficios'\n",
    "\n",
    "niña_mcgm_f6 = pd.DataFrame(mcgm_sexo[1][4], columns = ['Gratitud'])\n",
    "niña_mcgm_f6['Sexo'] = 'Niña'\n",
    "niña_mcgm_f6['GRAT'] = 'Expresiones de gratitud'\n",
    "\n",
    "\n",
    "GRAT_mcgm_all = pd.concat([niño_mcgm_f1f2, niño_mcgm_f3, niño_mcgm_f4, niño_mcgm_f5, niño_mcgm_f6, niña_mcgm_f1f2, niña_mcgm_f3, niña_mcgm_f4,\n",
    "                        niña_mcgm_f5, niña_mcgm_f6])"
   ]
  },
  {
   "cell_type": "code",
   "execution_count": 707,
   "metadata": {},
   "outputs": [
    {
     "data": {
      "text/plain": [
       "8748"
      ]
     },
     "execution_count": 707,
     "metadata": {},
     "output_type": "execute_result"
    }
   ],
   "source": [
    "len(GRAT_mcgm_all)"
   ]
  },
  {
   "cell_type": "markdown",
   "metadata": {},
   "source": [
    "<a id ='mcgm_anova'></a>"
   ]
  },
  {
   "cell_type": "markdown",
   "metadata": {},
   "source": [
    "ANOVA"
   ]
  },
  {
   "cell_type": "code",
   "execution_count": 469,
   "metadata": {},
   "outputs": [
    {
     "name": "stdout",
     "output_type": "stream",
     "text": [
      "p-value:  0.0 | Se asumen varianzanzas Desiguales\n"
     ]
    }
   ],
   "source": [
    "#ANOVA de dos factores (factor 1 = Sexo: Niño|Niña; factor 2 = subescala: Emoción|Serenidad|Simpatía|Satisfacción personal)\n",
    "\n",
    "# GRAT_all\n",
    "res = stat()\n",
    "res.levene(df=GRAT_mcgm_all.dropna(), res_var='Gratitud', xfac_var=['Sexo','GRAT'])\n",
    "res.levene_summary\n",
    "\n",
    "#Verificar si se cumple la supisición de varianzas iguales\n",
    "\n",
    "if res.levene_summary['Value'][2] < 0.05: \n",
    "    print('p-value: ', res.levene_summary['Value'][2],'|', 'Se asumen varianzanzas Desiguales')\n",
    "else: \n",
    "    print('p-value: ', res.levene_summary['Value'][2], '|', 'No se asumen varianzas iguales')"
   ]
  },
  {
   "cell_type": "code",
   "execution_count": 708,
   "metadata": {},
   "outputs": [
    {
     "data": {
      "text/html": [
       "<table class=\"simpletable\">\n",
       "<caption>OLS Regression Results</caption>\n",
       "<tr>\n",
       "  <th>Dep. Variable:</th>        <td>Gratitud</td>     <th>  R-squared:         </th> <td>   0.101</td> \n",
       "</tr>\n",
       "<tr>\n",
       "  <th>Model:</th>                   <td>OLS</td>       <th>  Adj. R-squared:    </th> <td>   0.100</td> \n",
       "</tr>\n",
       "<tr>\n",
       "  <th>Method:</th>             <td>Least Squares</td>  <th>  F-statistic:       </th> <td>   158.2</td> \n",
       "</tr>\n",
       "<tr>\n",
       "  <th>Date:</th>             <td>Mon, 07 Jun 2021</td> <th>  Prob (F-statistic):</th> <td>1.85e-128</td>\n",
       "</tr>\n",
       "<tr>\n",
       "  <th>Time:</th>                 <td>20:06:11</td>     <th>  Log-Likelihood:    </th> <td> -5427.5</td> \n",
       "</tr>\n",
       "<tr>\n",
       "  <th>No. Observations:</th>      <td>  5634</td>      <th>  AIC:               </th> <td>1.087e+04</td>\n",
       "</tr>\n",
       "<tr>\n",
       "  <th>Df Residuals:</th>          <td>  5629</td>      <th>  BIC:               </th> <td>1.090e+04</td>\n",
       "</tr>\n",
       "<tr>\n",
       "  <th>Df Model:</th>              <td>     4</td>      <th>                     </th>     <td> </td>    \n",
       "</tr>\n",
       "<tr>\n",
       "  <th>Covariance Type:</th>      <td>nonrobust</td>    <th>                     </th>     <td> </td>    \n",
       "</tr>\n",
       "</table>\n",
       "<table class=\"simpletable\">\n",
       "<tr>\n",
       "                <td></td>                   <th>coef</th>     <th>std err</th>      <th>t</th>      <th>P>|t|</th>  <th>[0.025</th>    <th>0.975]</th>  \n",
       "</tr>\n",
       "<tr>\n",
       "  <th>Intercept</th>                     <td>    1.2531</td> <td>    0.018</td> <td>   68.792</td> <td> 0.000</td> <td>    1.217</td> <td>    1.289</td>\n",
       "</tr>\n",
       "<tr>\n",
       "  <th>Sexo[T.Niño]</th>                  <td>    0.0186</td> <td>    0.017</td> <td>    1.099</td> <td> 0.272</td> <td>   -0.015</td> <td>    0.052</td>\n",
       "</tr>\n",
       "<tr>\n",
       "  <th>GRAT[T.Satisfacción Personal]</th> <td>    0.0909</td> <td>    0.026</td> <td>    3.473</td> <td> 0.001</td> <td>    0.040</td> <td>    0.142</td>\n",
       "</tr>\n",
       "<tr>\n",
       "  <th>GRAT[T.Serenidad]</th>             <td>    0.4876</td> <td>    0.022</td> <td>   22.460</td> <td> 0.000</td> <td>    0.445</td> <td>    0.530</td>\n",
       "</tr>\n",
       "<tr>\n",
       "  <th>GRAT[T.Simpatía]</th>              <td>    0.3995</td> <td>    0.024</td> <td>   16.610</td> <td> 0.000</td> <td>    0.352</td> <td>    0.447</td>\n",
       "</tr>\n",
       "</table>\n",
       "<table class=\"simpletable\">\n",
       "<tr>\n",
       "  <th>Omnibus:</th>       <td>487.050</td> <th>  Durbin-Watson:     </th> <td>   1.792</td> \n",
       "</tr>\n",
       "<tr>\n",
       "  <th>Prob(Omnibus):</th> <td> 0.000</td>  <th>  Jarque-Bera (JB):  </th> <td> 622.253</td> \n",
       "</tr>\n",
       "<tr>\n",
       "  <th>Skew:</th>          <td> 0.812</td>  <th>  Prob(JB):          </th> <td>7.58e-136</td>\n",
       "</tr>\n",
       "<tr>\n",
       "  <th>Kurtosis:</th>      <td> 2.883</td>  <th>  Cond. No.          </th> <td>    5.27</td> \n",
       "</tr>\n",
       "</table><br/><br/>Warnings:<br/>[1] Standard Errors assume that the covariance matrix of the errors is correctly specified."
      ],
      "text/plain": [
       "<class 'statsmodels.iolib.summary.Summary'>\n",
       "\"\"\"\n",
       "                            OLS Regression Results                            \n",
       "==============================================================================\n",
       "Dep. Variable:               Gratitud   R-squared:                       0.101\n",
       "Model:                            OLS   Adj. R-squared:                  0.100\n",
       "Method:                 Least Squares   F-statistic:                     158.2\n",
       "Date:                Mon, 07 Jun 2021   Prob (F-statistic):          1.85e-128\n",
       "Time:                        20:06:11   Log-Likelihood:                -5427.5\n",
       "No. Observations:                5634   AIC:                         1.087e+04\n",
       "Df Residuals:                    5629   BIC:                         1.090e+04\n",
       "Df Model:                           4                                         \n",
       "Covariance Type:            nonrobust                                         \n",
       "=================================================================================================\n",
       "                                    coef    std err          t      P>|t|      [0.025      0.975]\n",
       "-------------------------------------------------------------------------------------------------\n",
       "Intercept                         1.2531      0.018     68.792      0.000       1.217       1.289\n",
       "Sexo[T.Niño]                      0.0186      0.017      1.099      0.272      -0.015       0.052\n",
       "GRAT[T.Satisfacción Personal]     0.0909      0.026      3.473      0.001       0.040       0.142\n",
       "GRAT[T.Serenidad]                 0.4876      0.022     22.460      0.000       0.445       0.530\n",
       "GRAT[T.Simpatía]                  0.3995      0.024     16.610      0.000       0.352       0.447\n",
       "==============================================================================\n",
       "Omnibus:                      487.050   Durbin-Watson:                   1.792\n",
       "Prob(Omnibus):                  0.000   Jarque-Bera (JB):              622.253\n",
       "Skew:                           0.812   Prob(JB):                    7.58e-136\n",
       "Kurtosis:                       2.883   Cond. No.                         5.27\n",
       "==============================================================================\n",
       "\n",
       "Warnings:\n",
       "[1] Standard Errors assume that the covariance matrix of the errors is correctly specified.\n",
       "\"\"\""
      ]
     },
     "execution_count": 708,
     "metadata": {},
     "output_type": "execute_result"
    }
   ],
   "source": [
    "#perform two-way ANOVA\n",
    "\n",
    "formula = 'Gratitud ~ Sexo + GRAT'\n",
    "#formula = 'IndiceEficiencia ~  rango_edad'\n",
    "\n",
    "model = sm.formula.ols(formula, data= GRAT_ep_all).fit()\n",
    "# Perform ANOVA and print table\n",
    "aov_table = sm.stats.anova_lm(model, typ=2)\n",
    "# print(f\"Overall model F({model.df_model: .0f},{model.df_resid: .0f}) = {model.fvalue: .3f}, p = {model.f_pvalue: .4f}\")\n",
    "model.summary()\n",
    "\n",
    "# print(aov_table)"
   ]
  },
  {
   "cell_type": "code",
   "execution_count": 472,
   "metadata": {},
   "outputs": [
    {
     "data": {
      "text/html": [
       "<div>\n",
       "<style scoped>\n",
       "    .dataframe tbody tr th:only-of-type {\n",
       "        vertical-align: middle;\n",
       "    }\n",
       "\n",
       "    .dataframe tbody tr th {\n",
       "        vertical-align: top;\n",
       "    }\n",
       "\n",
       "    .dataframe thead th {\n",
       "        text-align: right;\n",
       "    }\n",
       "</style>\n",
       "<table border=\"1\" class=\"dataframe\">\n",
       "  <thead>\n",
       "    <tr style=\"text-align: right;\">\n",
       "      <th></th>\n",
       "      <th>sum_sq</th>\n",
       "      <th>df</th>\n",
       "      <th>mean_sq</th>\n",
       "      <th>F</th>\n",
       "      <th>PR(&gt;F)</th>\n",
       "      <th>eta_sq</th>\n",
       "      <th>omega_sq</th>\n",
       "    </tr>\n",
       "  </thead>\n",
       "  <tbody>\n",
       "    <tr>\n",
       "      <td>Sexo</td>\n",
       "      <td>4.729857</td>\n",
       "      <td>1.0</td>\n",
       "      <td>4.729857</td>\n",
       "      <td>2.989467</td>\n",
       "      <td>0.083844</td>\n",
       "      <td>0.000253</td>\n",
       "      <td>0.000168</td>\n",
       "    </tr>\n",
       "    <tr>\n",
       "      <td>GRAT</td>\n",
       "      <td>5175.153659</td>\n",
       "      <td>4.0</td>\n",
       "      <td>1293.788415</td>\n",
       "      <td>817.728235</td>\n",
       "      <td>0.000000</td>\n",
       "      <td>0.276706</td>\n",
       "      <td>0.276345</td>\n",
       "    </tr>\n",
       "    <tr>\n",
       "      <td>Sexo:GRAT</td>\n",
       "      <td>17.367341</td>\n",
       "      <td>4.0</td>\n",
       "      <td>4.341835</td>\n",
       "      <td>2.744221</td>\n",
       "      <td>0.026891</td>\n",
       "      <td>0.000929</td>\n",
       "      <td>0.000590</td>\n",
       "    </tr>\n",
       "    <tr>\n",
       "      <td>Residual</td>\n",
       "      <td>13505.437920</td>\n",
       "      <td>8536.0</td>\n",
       "      <td>1.582174</td>\n",
       "      <td>NaN</td>\n",
       "      <td>NaN</td>\n",
       "      <td>NaN</td>\n",
       "      <td>NaN</td>\n",
       "    </tr>\n",
       "  </tbody>\n",
       "</table>\n",
       "</div>"
      ],
      "text/plain": [
       "                 sum_sq      df      mean_sq           F    PR(>F)    eta_sq  \\\n",
       "Sexo           4.729857     1.0     4.729857    2.989467  0.083844  0.000253   \n",
       "GRAT        5175.153659     4.0  1293.788415  817.728235  0.000000  0.276706   \n",
       "Sexo:GRAT     17.367341     4.0     4.341835    2.744221  0.026891  0.000929   \n",
       "Residual   13505.437920  8536.0     1.582174         NaN       NaN       NaN   \n",
       "\n",
       "           omega_sq  \n",
       "Sexo       0.000168  \n",
       "GRAT       0.276345  \n",
       "Sexo:GRAT  0.000590  \n",
       "Residual        NaN  "
      ]
     },
     "execution_count": 472,
     "metadata": {},
     "output_type": "execute_result"
    }
   ],
   "source": [
    "anova_table(aov_table)"
   ]
  },
  {
   "cell_type": "markdown",
   "metadata": {},
   "source": [
    "POST HOC"
   ]
  },
  {
   "cell_type": "code",
   "execution_count": 473,
   "metadata": {
    "scrolled": true
   },
   "outputs": [
    {
     "data": {
      "text/html": [
       "<div>\n",
       "<style scoped>\n",
       "    .dataframe tbody tr th:only-of-type {\n",
       "        vertical-align: middle;\n",
       "    }\n",
       "\n",
       "    .dataframe tbody tr th {\n",
       "        vertical-align: top;\n",
       "    }\n",
       "\n",
       "    .dataframe thead th {\n",
       "        text-align: right;\n",
       "    }\n",
       "</style>\n",
       "<table border=\"1\" class=\"dataframe\">\n",
       "  <thead>\n",
       "    <tr style=\"text-align: right;\">\n",
       "      <th></th>\n",
       "      <th>coef</th>\n",
       "      <th>std err</th>\n",
       "      <th>t</th>\n",
       "      <th>P&gt;|t|</th>\n",
       "      <th>Conf. Int. Low</th>\n",
       "      <th>Conf. Int. Upp.</th>\n",
       "      <th>pvalue-hs</th>\n",
       "      <th>reject-hs</th>\n",
       "    </tr>\n",
       "  </thead>\n",
       "  <tbody>\n",
       "    <tr>\n",
       "      <td>Defectos de comportamiento-Actitudes de oportunidad</td>\n",
       "      <td>-0.930140</td>\n",
       "      <td>0.067897</td>\n",
       "      <td>-13.699319</td>\n",
       "      <td>2.863377e-42</td>\n",
       "      <td>-1.063235</td>\n",
       "      <td>-0.797046</td>\n",
       "      <td>0.000000e+00</td>\n",
       "      <td>True</td>\n",
       "    </tr>\n",
       "    <tr>\n",
       "      <td>Emocion|Actitud para gratitud-Actitudes de oportunidad</td>\n",
       "      <td>1.249319</td>\n",
       "      <td>0.056353</td>\n",
       "      <td>22.169418</td>\n",
       "      <td>6.348144e-106</td>\n",
       "      <td>1.138853</td>\n",
       "      <td>1.359785</td>\n",
       "      <td>0.000000e+00</td>\n",
       "      <td>True</td>\n",
       "    </tr>\n",
       "    <tr>\n",
       "      <td>Expresiones de gratitud-Actitudes de oportunidad</td>\n",
       "      <td>0.842587</td>\n",
       "      <td>0.067897</td>\n",
       "      <td>12.409813</td>\n",
       "      <td>4.633768e-35</td>\n",
       "      <td>0.709493</td>\n",
       "      <td>0.975681</td>\n",
       "      <td>0.000000e+00</td>\n",
       "      <td>True</td>\n",
       "    </tr>\n",
       "    <tr>\n",
       "      <td>Rituales/notar beneficios-Actitudes de oportunidad</td>\n",
       "      <td>0.182522</td>\n",
       "      <td>0.064002</td>\n",
       "      <td>2.851806</td>\n",
       "      <td>4.357594e-03</td>\n",
       "      <td>0.057062</td>\n",
       "      <td>0.307982</td>\n",
       "      <td>4.357594e-03</td>\n",
       "      <td>True</td>\n",
       "    </tr>\n",
       "    <tr>\n",
       "      <td>Emocion|Actitud para gratitud-Defectos de comportamiento</td>\n",
       "      <td>2.179459</td>\n",
       "      <td>0.060849</td>\n",
       "      <td>35.817318</td>\n",
       "      <td>7.099740e-262</td>\n",
       "      <td>2.060180</td>\n",
       "      <td>2.298739</td>\n",
       "      <td>0.000000e+00</td>\n",
       "      <td>True</td>\n",
       "    </tr>\n",
       "    <tr>\n",
       "      <td>Expresiones de gratitud-Defectos de comportamiento</td>\n",
       "      <td>1.772727</td>\n",
       "      <td>0.071672</td>\n",
       "      <td>24.733761</td>\n",
       "      <td>1.681061e-130</td>\n",
       "      <td>1.632232</td>\n",
       "      <td>1.913222</td>\n",
       "      <td>0.000000e+00</td>\n",
       "      <td>True</td>\n",
       "    </tr>\n",
       "    <tr>\n",
       "      <td>Rituales/notar beneficios-Defectos de comportamiento</td>\n",
       "      <td>1.112662</td>\n",
       "      <td>0.067994</td>\n",
       "      <td>16.364033</td>\n",
       "      <td>2.745007e-59</td>\n",
       "      <td>0.979377</td>\n",
       "      <td>1.245948</td>\n",
       "      <td>0.000000e+00</td>\n",
       "      <td>True</td>\n",
       "    </tr>\n",
       "    <tr>\n",
       "      <td>Expresiones de gratitud-Emocion|Actitud para gratitud</td>\n",
       "      <td>-0.406732</td>\n",
       "      <td>0.060849</td>\n",
       "      <td>-6.684250</td>\n",
       "      <td>2.466715e-11</td>\n",
       "      <td>-0.526011</td>\n",
       "      <td>-0.287453</td>\n",
       "      <td>4.933431e-11</td>\n",
       "      <td>True</td>\n",
       "    </tr>\n",
       "    <tr>\n",
       "      <td>Rituales/notar beneficios-Emocion|Actitud para gratitud</td>\n",
       "      <td>-1.066797</td>\n",
       "      <td>0.056471</td>\n",
       "      <td>-18.891140</td>\n",
       "      <td>5.188799e-78</td>\n",
       "      <td>-1.177493</td>\n",
       "      <td>-0.956101</td>\n",
       "      <td>0.000000e+00</td>\n",
       "      <td>True</td>\n",
       "    </tr>\n",
       "    <tr>\n",
       "      <td>Rituales/notar beneficios-Expresiones de gratitud</td>\n",
       "      <td>-0.660065</td>\n",
       "      <td>0.067994</td>\n",
       "      <td>-9.707639</td>\n",
       "      <td>3.641360e-22</td>\n",
       "      <td>-0.793350</td>\n",
       "      <td>-0.526779</td>\n",
       "      <td>0.000000e+00</td>\n",
       "      <td>True</td>\n",
       "    </tr>\n",
       "  </tbody>\n",
       "</table>\n",
       "</div>"
      ],
      "text/plain": [
       "                                                        coef   std err  \\\n",
       "Defectos de comportamiento-Actitudes de oportun... -0.930140  0.067897   \n",
       "Emocion|Actitud para gratitud-Actitudes de opor...  1.249319  0.056353   \n",
       "Expresiones de gratitud-Actitudes de oportunidad    0.842587  0.067897   \n",
       "Rituales/notar beneficios-Actitudes de oportunidad  0.182522  0.064002   \n",
       "Emocion|Actitud para gratitud-Defectos de compo...  2.179459  0.060849   \n",
       "Expresiones de gratitud-Defectos de comportamiento  1.772727  0.071672   \n",
       "Rituales/notar beneficios-Defectos de comportam...  1.112662  0.067994   \n",
       "Expresiones de gratitud-Emocion|Actitud para gr... -0.406732  0.060849   \n",
       "Rituales/notar beneficios-Emocion|Actitud para ... -1.066797  0.056471   \n",
       "Rituales/notar beneficios-Expresiones de gratitud  -0.660065  0.067994   \n",
       "\n",
       "                                                            t          P>|t|  \\\n",
       "Defectos de comportamiento-Actitudes de oportun... -13.699319   2.863377e-42   \n",
       "Emocion|Actitud para gratitud-Actitudes de opor...  22.169418  6.348144e-106   \n",
       "Expresiones de gratitud-Actitudes de oportunidad    12.409813   4.633768e-35   \n",
       "Rituales/notar beneficios-Actitudes de oportunidad   2.851806   4.357594e-03   \n",
       "Emocion|Actitud para gratitud-Defectos de compo...  35.817318  7.099740e-262   \n",
       "Expresiones de gratitud-Defectos de comportamiento  24.733761  1.681061e-130   \n",
       "Rituales/notar beneficios-Defectos de comportam...  16.364033   2.745007e-59   \n",
       "Expresiones de gratitud-Emocion|Actitud para gr...  -6.684250   2.466715e-11   \n",
       "Rituales/notar beneficios-Emocion|Actitud para ... -18.891140   5.188799e-78   \n",
       "Rituales/notar beneficios-Expresiones de gratitud   -9.707639   3.641360e-22   \n",
       "\n",
       "                                                    Conf. Int. Low  \\\n",
       "Defectos de comportamiento-Actitudes de oportun...       -1.063235   \n",
       "Emocion|Actitud para gratitud-Actitudes de opor...        1.138853   \n",
       "Expresiones de gratitud-Actitudes de oportunidad          0.709493   \n",
       "Rituales/notar beneficios-Actitudes de oportunidad        0.057062   \n",
       "Emocion|Actitud para gratitud-Defectos de compo...        2.060180   \n",
       "Expresiones de gratitud-Defectos de comportamiento        1.632232   \n",
       "Rituales/notar beneficios-Defectos de comportam...        0.979377   \n",
       "Expresiones de gratitud-Emocion|Actitud para gr...       -0.526011   \n",
       "Rituales/notar beneficios-Emocion|Actitud para ...       -1.177493   \n",
       "Rituales/notar beneficios-Expresiones de gratitud        -0.793350   \n",
       "\n",
       "                                                    Conf. Int. Upp.  \\\n",
       "Defectos de comportamiento-Actitudes de oportun...        -0.797046   \n",
       "Emocion|Actitud para gratitud-Actitudes de opor...         1.359785   \n",
       "Expresiones de gratitud-Actitudes de oportunidad           0.975681   \n",
       "Rituales/notar beneficios-Actitudes de oportunidad         0.307982   \n",
       "Emocion|Actitud para gratitud-Defectos de compo...         2.298739   \n",
       "Expresiones de gratitud-Defectos de comportamiento         1.913222   \n",
       "Rituales/notar beneficios-Defectos de comportam...         1.245948   \n",
       "Expresiones de gratitud-Emocion|Actitud para gr...        -0.287453   \n",
       "Rituales/notar beneficios-Emocion|Actitud para ...        -0.956101   \n",
       "Rituales/notar beneficios-Expresiones de gratitud         -0.526779   \n",
       "\n",
       "                                                       pvalue-hs  reject-hs  \n",
       "Defectos de comportamiento-Actitudes de oportun...  0.000000e+00       True  \n",
       "Emocion|Actitud para gratitud-Actitudes de opor...  0.000000e+00       True  \n",
       "Expresiones de gratitud-Actitudes de oportunidad    0.000000e+00       True  \n",
       "Rituales/notar beneficios-Actitudes de oportunidad  4.357594e-03       True  \n",
       "Emocion|Actitud para gratitud-Defectos de compo...  0.000000e+00       True  \n",
       "Expresiones de gratitud-Defectos de comportamiento  0.000000e+00       True  \n",
       "Rituales/notar beneficios-Defectos de comportam...  0.000000e+00       True  \n",
       "Expresiones de gratitud-Emocion|Actitud para gr...  4.933431e-11       True  \n",
       "Rituales/notar beneficios-Emocion|Actitud para ...  0.000000e+00       True  \n",
       "Rituales/notar beneficios-Expresiones de gratitud   0.000000e+00       True  "
      ]
     },
     "execution_count": 473,
     "metadata": {},
     "output_type": "execute_result"
    }
   ],
   "source": [
    "pair_t = model.t_test_pairwise('GRAT')\n",
    "pair_t.result_frame"
   ]
  },
  {
   "cell_type": "code",
   "execution_count": 487,
   "metadata": {},
   "outputs": [
    {
     "data": {
      "text/plain": [
       "0.30974143926753356"
      ]
     },
     "execution_count": 487,
     "metadata": {},
     "output_type": "execute_result"
    }
   ],
   "source": [
    "stats.sem(np.nanmean(MCGM_F1F2,0), nan_policy = 'omit')"
   ]
  },
  {
   "cell_type": "markdown",
   "metadata": {},
   "source": [
    "<a id ='mcgm_plot'></a>"
   ]
  },
  {
   "cell_type": "markdown",
   "metadata": {},
   "source": [
    "MCGM PLOT"
   ]
  },
  {
   "cell_type": "code",
   "execution_count": 494,
   "metadata": {
    "scrolled": true
   },
   "outputs": [
    {
     "data": {
      "image/png": "[encoded data removed]",
      "text/plain": [
       "<Figure size 720x360 with 1 Axes>"
      ]
     },
     "metadata": {
      "needs_background": "light"
     },
     "output_type": "display_data"
    }
   ],
   "source": [
    "mcgm_MEDIAS = [np.nanmean(MCGM_F1F2), np.nanmean(MCGM_F3), np.nanmean(MCGM_F4), np.nanmean(MCGM_F5), np.nanmean(MCGM_F6)]\n",
    "mcgm_SEM = [stats.sem(np.nanmean(MCGM_F1F2,0), nan_policy = 'omit'), stats.sem(np.nanmean(MCGM_F3,0), nan_policy = 'omit'), \n",
    "            stats.sem(np.nanmean(MCGM_F4,0), nan_policy = 'omit'), stats.sem(np.nanmean(MCGM_F5,0), nan_policy = 'omit'), stats.sem(np.nanmean(MCGM_F6,0), nan_policy = 'omit')]\n",
    "\n",
    "#Niño\n",
    "mcgm_MEDIAS_niño = [np.nanmean(mcgm_sexo[0][0]), np.nanmean(mcgm_sexo[0][1]), np.nanmean(mcgm_sexo[0][2]), np.nanmean(mcgm_sexo[0][3]), np.nanmean(mcgm_sexo[0][4])]\n",
    "mcgm_SEM_niño = [stats.sem(mcgm_sexo[0][0], nan_policy = 'omit'), stats.sem(mcgm_sexo[0][1], nan_policy = 'omit'), stats.sem(mcgm_sexo[0][2], nan_policy = 'omit'),\n",
    "                 stats.sem(mcgm_sexo[0][3], nan_policy = 'omit'), stats.sem(mcgm_sexo[0][4], nan_policy = 'omit')]\n",
    "\n",
    "#Niña\n",
    "mcgm_MEDIAS_niña = [np.nanmean(mcgm_sexo[1][0]), np.nanmean(mcgm_sexo[1][1]), np.nanmean(mcgm_sexo[1][2]), np.nanmean(mcgm_sexo[1][3]), np.nanmean(mcgm_sexo[1][4])]\n",
    "mcgm_SEM_niña = [stats.sem(mcgm_sexo[1][0], nan_policy = 'omit'), stats.sem(mcgm_sexo[1][1], nan_policy = 'omit'), stats.sem(mcgm_sexo[1][2], nan_policy = 'omit'),\n",
    "                 stats.sem(mcgm_sexo[1][3], nan_policy = 'omit'), stats.sem(mcgm_sexo[1][4], nan_policy = 'omit')]\n",
    "\n",
    "label = ['Emocion|Actitud para gratitud', 'Actitudes de oportunidad', 'Defectos de comportamiento', 'Rituales/notar beneficios', 'Expresiones de gratitud']\n",
    "\n",
    "\n",
    "plt.figure(figsize = (10,5))\n",
    "plt.errorbar(label, mcgm_MEDIAS, mcgm_SEM, color='midnightblue', linewidth=4, capsize =4, label = 'Todos')\n",
    "plt.errorbar(label, mcgm_MEDIAS_niño, mcgm_SEM_niño, color='orange', dashes = [0.7, 0.7], linewidth=4, capsize =4, label = 'Niño')\n",
    "plt.errorbar(label, mcgm_MEDIAS_niña, mcgm_SEM_niña, color='deepskyblue', dashes = [0.7, 0.7], linewidth=4, capsize =4, label = 'Niña')\n",
    "\n",
    "plt.xticks(rotation=20, size=15)\n",
    "plt.yticks(size=15)\n",
    "plt.ylabel('Puntaje promedio', size = 20)\n",
    "plt.legend(loc='upper left', prop={'size': 15})\n",
    "plt.grid(True, linewidth=0.5, color='k', linestyle='-')"
   ]
  },
  {
   "cell_type": "markdown",
   "metadata": {},
   "source": [
    "<a id ='Analisis entre pruebas'></a>"
   ]
  },
  {
   "cell_type": "markdown",
   "metadata": {},
   "source": [
    "-------"
   ]
  },
  {
   "cell_type": "markdown",
   "metadata": {},
   "source": [
    "-------"
   ]
  },
  {
   "cell_type": "markdown",
   "metadata": {},
   "source": [
    "# As Morgan and collaborators (2017) we aimed to explore whether certain combinations of components would result in particular patterns of gratitude. "
   ]
  },
  {
   "cell_type": "markdown",
   "metadata": {},
   "source": [
    "Would an individual who scores highly on all five components of the MCGM report a different level of gratitude to those\n",
    "that score high on only one, two or three components?   \n",
    "\n",
    "Vamos a correr los análisis agrupando el MCGM de la siguiente manera: \n",
    "\n",
    "-1) Cinco componentes que calculamos del análisis factorial exploratorio. \n",
    "\n",
    "\n",
    "-2) Tres componentes principales en donde se engloban las subescalas. (opcional)"
   ]
  },
  {
   "cell_type": "markdown",
   "metadata": {},
   "source": [
    "<a href='#descriptivos'> Ir a estadísticos descriptivos </a>\n",
    "\n",
    "\n",
    "<a href='#Ir a inicio'> Ir a inicio </a>"
   ]
  },
  {
   "cell_type": "markdown",
   "metadata": {},
   "source": [
    "__________"
   ]
  },
  {
   "cell_type": "code",
   "execution_count": 542,
   "metadata": {},
   "outputs": [],
   "source": [
    "# MCGM.drop(['Sexo'],axis=1,inplace=True)\n",
    "# OROS_GRAT_ns = OROS_GRAT.drop(['Sexo'],axis=1,inplace=True)\n",
    "# OROS_EP_ns = OROS_EP.drop(['Sexo'],axis=1,inplace=True)"
   ]
  },
  {
   "cell_type": "markdown",
   "metadata": {},
   "source": [
    "# Cronbach Alpha"
   ]
  },
  {
   "cell_type": "markdown",
   "metadata": {},
   "source": [
    "(1)\n",
    "\n",
    "A nivel general:"
   ]
  },
  {
   "cell_type": "code",
   "execution_count": 540,
   "metadata": {
    "scrolled": true
   },
   "outputs": [
    {
     "name": "stdout",
     "output_type": "stream",
     "text": [
      "MCGM:  0.8696875467709008\n",
      "\n",
      "OROS Gratitud:  0.4672974103825842\n",
      "\n",
      "OROS Emociones postitivas:  0.8811571212289274\n"
     ]
    }
   ],
   "source": [
    "print('MCGM: ', cronbach_alpha(MCGM))\n",
    "print()\n",
    "print('OROS Gratitud: ', cronbach_alpha(OROS_GRAT))\n",
    "print()\n",
    "print('OROS Emociones postitivas: ', cronbach_alpha(OROS_EP))"
   ]
  },
  {
   "cell_type": "markdown",
   "metadata": {},
   "source": [
    "(2)"
   ]
  },
  {
   "cell_type": "markdown",
   "metadata": {},
   "source": [
    "Dividido por subescalas: "
   ]
  },
  {
   "cell_type": "code",
   "execution_count": 572,
   "metadata": {},
   "outputs": [
    {
     "name": "stdout",
     "output_type": "stream",
     "text": [
      "MCGM \n",
      "\n",
      "\n",
      "Feelings|attitudes of gratitude:  0.9217986246382704 \n",
      "\n",
      "Attitudes to appropriateness:  0.7031978956218375 \n",
      "\n",
      "Behavioral shortcomings:  0.7758480592619799 \n",
      "\n",
      "Rituals/noticing benefits:  0.8307640399090057 \n",
      "\n",
      "Expressions of gratitude:  0.8575831838227751 \n",
      "\n",
      " \n",
      "\n",
      "Emotion/attitude: 0.9217986246382704 \n",
      "\n",
      "Attitudes: 0.7031978956218375 \n",
      "\n",
      "Behaviour: 0.8263653990152614\n",
      "\n",
      "\n",
      "OROS Gratitud \n",
      "\n",
      "\n",
      "Gratitud: 0.1861676377454001 \n",
      "\n",
      "Ingratitud: 0.1862297489989849\n",
      "\n",
      "\n",
      "OROS Emociones postitivas \n",
      "\n",
      "\n",
      "Emoción: 0.6055375001291118 \n",
      "\n",
      "Serenidad: 0.7976053504283275 \n",
      "\n",
      "Simpatía: 0.6278078587505429 \n",
      "\n",
      "Satisfacción personal: 0.7689672681575958\n"
     ]
    }
   ],
   "source": [
    "print('MCGM','\\n\\n\\nFeelings|attitudes of gratitude: ', cronbach_alpha(MCGM_F1F2),'\\n\\nAttitudes to appropriateness: ', cronbach_alpha(MCGM_F3),\n",
    "     '\\n\\nBehavioral shortcomings: ', cronbach_alpha(MCGM_F4), '\\n\\nRituals/noticing benefits: ', cronbach_alpha(MCGM_F5),\n",
    "     '\\n\\nExpressions of gratitude: ', cronbach_alpha(MCGM_F6), '\\n\\n', '\\n\\nEmotion/attitude:', cronbach_alpha(MCGM_emocion_actitudes),\n",
    "     '\\n\\nAttitudes:', cronbach_alpha(MCGM_actitudes), '\\n\\nBehaviour:', cronbach_alpha(MCGM_comportamiento))\n",
    "print('\\n')\n",
    "print('OROS Gratitud','\\n\\n\\nGratitud:', cronbach_alpha(OROS_GRAT1), '\\n\\nIngratitud:', cronbach_alpha(OROS_INGRAT) )\n",
    "print('\\n')\n",
    "print('OROS Emociones postitivas', '\\n\\n\\nEmoción:', cronbach_alpha(OROS_EP_EMOCION), '\\n\\nSerenidad:', cronbach_alpha(OROS_EP_SERENIDAD),\n",
    "     '\\n\\nSimpatía:', cronbach_alpha(OROS_EP_SIMPATIA), '\\n\\nSatisfacción personal:', cronbach_alpha(OROS_EP_SAT_PERS))"
   ]
  },
  {
   "cell_type": "markdown",
   "metadata": {},
   "source": [
    "# Correlaciones "
   ]
  },
  {
   "cell_type": "markdown",
   "metadata": {},
   "source": [
    "Concateno los ítems de las subescalas"
   ]
  },
  {
   "cell_type": "code",
   "execution_count": 732,
   "metadata": {},
   "outputs": [],
   "source": [
    "suma_MCGM_f1f2 = (MCGM['MCGM_1']+MCGM['MCGM_2']+MCGM['MCGM_3']+MCGM['MCGM_4']+MCGM['MCGM_5']+MCGM['MCGM_6']+MCGM['MCGM_8']+MCGM['MCGM_9']+MCGM['MCGM_10'])/9\n",
    "\n",
    "suma_MCGM_f3 =  (MCGM['MCGM_11'] + MCGM['MCGM_12']+ MCGM['MCGM_13']+ MCGM['MCGM_14']+ MCGM['MCGM_15'])/5\n",
    "\n",
    "suma_MCGM_f4 =  (MCGM['MCGM_17']+ MCGM['MCGM_18']+ MCGM['MCGM_19']+ MCGM['MCGM_20'])/4\n",
    "\n",
    "suma_MCGM_f5 =(MCGM['MCGM_21'] + MCGM['MCGM_22']+ MCGM['MCGM_23']+ MCGM['MCGM_24']+ MCGM['MCGM_25'])/5\n",
    "                            \n",
    "suma_MCGM_f6 =  (MCGM['MCGM_26']+ MCGM['MCGM_27']+ MCGM['MCGM_28']+ MCGM['MCGM_29'])/4 \n",
    "\n",
    "suma_MCGM_comportamiento =(MCGM['MCGM_17']+MCGM['MCGM_18']+ MCGM['MCGM_19']+ MCGM['MCGM_20']+ MCGM['MCGM_21']+\n",
    "                                       MCGM['MCGM_22']+MCGM['MCGM_23']+ MCGM['MCGM_24']+ MCGM['MCGM_25']+ MCGM['MCGM_26'] +MCGM['MCGM_27'] +\n",
    "                                       MCGM['MCGM_28']+ MCGM['MCGM_29'])/13\n",
    "\n",
    "#OROS gratitud\n",
    "suma_OROS_GRAT1_ih = (OROS_GRAT['OROS_GRAT_2'] + OROS_GRAT['OROS_GRAT_3']+ OROS_GRAT['OROS_GRAT_5']+ OROS_GRAT['OROS_GRAT_6']+ OROS_GRAT['OROS_GRAT_10']+ OROS_GRAT['OROS_GRAT_13']+ OROS_GRAT['OROS_GRAT_14'])/7\n",
    "suma_OROS_INGRAT1_ih =(OROS_GRAT['OROS_GRAT_1']+ OROS_GRAT['OROS_GRAT_7']+ OROS_GRAT['OROS_GRAT_8']+OROS_GRAT['OROS_GRAT_9']+ OROS_GRAT['OROS_GRAT_11']+ OROS_GRAT['OROS_GRAT_12'])/6\n",
    "\n",
    "#OROS emociones positivas\n",
    "suma_OROS_EP_EMOCION2 = (OROS_EP['OROS_EP_1']+OROS_EP['OROS_EP_2']+ OROS_EP['OROS_EP_4']+OROS_EP['OROS_EP_10']+ OROS_EP['OROS_EP_21'])/5\n",
    "suma_OROS_EP_SERENIDAD2 = (OROS_EP['OROS_EP_3']+ OROS_EP['OROS_EP_5']+OROS_EP['OROS_EP_9']+OROS_EP['OROS_EP_14']+ OROS_EP['OROS_EP_17']+ OROS_EP['OROS_EP_19'])/6\n",
    "suma_OROS_EP_SIMPATIA2 = (OROS_EP['OROS_EP_6']+ OROS_EP['OROS_EP_7']+ OROS_EP['OROS_EP_11']+OROS_EP['OROS_EP_21'])/4\n",
    "suma_OROS_EP_SAT_PERS2 = (OROS_EP['OROS_EP_8']+OROS_EP['OROS_EP_16']+OROS_EP['OROS_EP_20'])/3\n"
   ]
  },
  {
   "cell_type": "markdown",
   "metadata": {},
   "source": [
    "Las uno en una matriz para analizar"
   ]
  },
  {
   "cell_type": "code",
   "execution_count": 741,
   "metadata": {},
   "outputs": [],
   "source": [
    "pruebas_all = pd.DataFrame([suma_OROS_GRAT1_ih, suma_OROS_INGRAT1_ih, suma_OROS_EP_EMOCION2,suma_OROS_EP_SERENIDAD2, \n",
    "               suma_OROS_EP_SIMPATIA2, suma_OROS_EP_SAT_PERS2, suma_MCGM_f1f2, suma_MCGM_f3, suma_MCGM_f4, \n",
    "               suma_MCGM_f5, suma_MCGM_f6, suma_MCGM_comportamiento]).T"
   ]
  },
  {
   "cell_type": "code",
   "execution_count": 744,
   "metadata": {},
   "outputs": [],
   "source": [
    "r_cors = pruebas_all.corr()"
   ]
  },
  {
   "cell_type": "code",
   "execution_count": 756,
   "metadata": {},
   "outputs": [],
   "source": [
    "mu_all = [np.nanmean(pruebas_all[i]) for i in range(12)]"
   ]
  },
  {
   "cell_type": "code",
   "execution_count": 759,
   "metadata": {},
   "outputs": [
    {
     "name": "stderr",
     "output_type": "stream",
     "text": [
      "c:\\users\\maria\\appdata\\local\\programs\\python\\python37-32\\lib\\site-packages\\ipykernel_launcher.py:1: RuntimeWarning: covariance is not positive-semidefinite.\n",
      "  \"\"\"Entry point for launching an IPython kernel.\n"
     ]
    }
   ],
   "source": [
    "y = np.random.multivariate_normal(mu_all, r_cors, size=len(pruebas_all))"
   ]
  },
  {
   "cell_type": "code",
   "execution_count": 762,
   "metadata": {},
   "outputs": [],
   "source": [
    "df2 = pd.DataFrame(y)\n",
    "df2.columns = ['Gratitud','Ingratitud','Emoción','Serenidad', 'Simpatía', 'Sat.Personal', 'Emoci.Act Grat', 'Actitud Grat', 'Defect.Comp', 'Rituales', 'Exp.Grat', 'Comportamiento']\n"
   ]
  },
  {
   "cell_type": "code",
   "execution_count": 768,
   "metadata": {},
   "outputs": [
    {
     "data": {
      "text/html": [
       "<div>\n",
       "<style scoped>\n",
       "    .dataframe tbody tr th:only-of-type {\n",
       "        vertical-align: middle;\n",
       "    }\n",
       "\n",
       "    .dataframe tbody tr th {\n",
       "        vertical-align: top;\n",
       "    }\n",
       "\n",
       "    .dataframe thead th {\n",
       "        text-align: right;\n",
       "    }\n",
       "</style>\n",
       "<table border=\"1\" class=\"dataframe\">\n",
       "  <thead>\n",
       "    <tr style=\"text-align: right;\">\n",
       "      <th></th>\n",
       "      <th>Gratitud</th>\n",
       "      <th>Ingratitud</th>\n",
       "      <th>Emoción</th>\n",
       "      <th>Serenidad</th>\n",
       "      <th>Simpatía</th>\n",
       "      <th>Sat.Personal</th>\n",
       "      <th>Emoci.Act Grat</th>\n",
       "      <th>Actitud Grat</th>\n",
       "      <th>Defect.Comp</th>\n",
       "      <th>Rituales</th>\n",
       "      <th>Exp.Grat</th>\n",
       "      <th>Comportamiento</th>\n",
       "    </tr>\n",
       "  </thead>\n",
       "  <tbody>\n",
       "    <tr>\n",
       "      <td>Gratitud</td>\n",
       "      <td>-</td>\n",
       "      <td>***</td>\n",
       "      <td>***</td>\n",
       "      <td></td>\n",
       "      <td>*</td>\n",
       "      <td></td>\n",
       "      <td></td>\n",
       "      <td></td>\n",
       "      <td></td>\n",
       "      <td></td>\n",
       "      <td></td>\n",
       "      <td></td>\n",
       "    </tr>\n",
       "    <tr>\n",
       "      <td>Ingratitud</td>\n",
       "      <td>0.37</td>\n",
       "      <td>-</td>\n",
       "      <td></td>\n",
       "      <td></td>\n",
       "      <td></td>\n",
       "      <td></td>\n",
       "      <td>**</td>\n",
       "      <td></td>\n",
       "      <td></td>\n",
       "      <td></td>\n",
       "      <td></td>\n",
       "      <td></td>\n",
       "    </tr>\n",
       "    <tr>\n",
       "      <td>Emoción</td>\n",
       "      <td>0.248</td>\n",
       "      <td>0.04</td>\n",
       "      <td>-</td>\n",
       "      <td>***</td>\n",
       "      <td>***</td>\n",
       "      <td>***</td>\n",
       "      <td>***</td>\n",
       "      <td></td>\n",
       "      <td>***</td>\n",
       "      <td>***</td>\n",
       "      <td>***</td>\n",
       "      <td></td>\n",
       "    </tr>\n",
       "    <tr>\n",
       "      <td>Serenidad</td>\n",
       "      <td>0.026</td>\n",
       "      <td>0.125</td>\n",
       "      <td>0.436</td>\n",
       "      <td>-</td>\n",
       "      <td>***</td>\n",
       "      <td></td>\n",
       "      <td></td>\n",
       "      <td>*</td>\n",
       "      <td></td>\n",
       "      <td></td>\n",
       "      <td></td>\n",
       "      <td></td>\n",
       "    </tr>\n",
       "    <tr>\n",
       "      <td>Simpatía</td>\n",
       "      <td>0.188</td>\n",
       "      <td>-0.034</td>\n",
       "      <td>0.611</td>\n",
       "      <td>0.256</td>\n",
       "      <td>-</td>\n",
       "      <td></td>\n",
       "      <td></td>\n",
       "      <td></td>\n",
       "      <td>*</td>\n",
       "      <td>*</td>\n",
       "      <td></td>\n",
       "      <td></td>\n",
       "    </tr>\n",
       "    <tr>\n",
       "      <td>Sat.Personal</td>\n",
       "      <td>0.154</td>\n",
       "      <td>0.14</td>\n",
       "      <td>0.306</td>\n",
       "      <td>0.165</td>\n",
       "      <td>0.16</td>\n",
       "      <td>-</td>\n",
       "      <td>***</td>\n",
       "      <td></td>\n",
       "      <td></td>\n",
       "      <td></td>\n",
       "      <td></td>\n",
       "      <td></td>\n",
       "    </tr>\n",
       "    <tr>\n",
       "      <td>Emoci.Act Grat</td>\n",
       "      <td>-0.036</td>\n",
       "      <td>0.208</td>\n",
       "      <td>-0.286</td>\n",
       "      <td>-0.054</td>\n",
       "      <td>-0.145</td>\n",
       "      <td>-0.263</td>\n",
       "      <td>-</td>\n",
       "      <td>***</td>\n",
       "      <td></td>\n",
       "      <td>***</td>\n",
       "      <td>***</td>\n",
       "      <td>***</td>\n",
       "    </tr>\n",
       "    <tr>\n",
       "      <td>Actitud Grat</td>\n",
       "      <td>-0.055</td>\n",
       "      <td>0.033</td>\n",
       "      <td>-0.086</td>\n",
       "      <td>-0.189</td>\n",
       "      <td>-0.024</td>\n",
       "      <td>-0.097</td>\n",
       "      <td>0.248</td>\n",
       "      <td>-</td>\n",
       "      <td></td>\n",
       "      <td>**</td>\n",
       "      <td></td>\n",
       "      <td></td>\n",
       "    </tr>\n",
       "    <tr>\n",
       "      <td>Defect.Comp</td>\n",
       "      <td>0.071</td>\n",
       "      <td>-0.074</td>\n",
       "      <td>0.274</td>\n",
       "      <td>0.157</td>\n",
       "      <td>0.184</td>\n",
       "      <td>0.164</td>\n",
       "      <td>-0.087</td>\n",
       "      <td>-0.079</td>\n",
       "      <td>-</td>\n",
       "      <td></td>\n",
       "      <td></td>\n",
       "      <td>***</td>\n",
       "    </tr>\n",
       "    <tr>\n",
       "      <td>Rituales</td>\n",
       "      <td>0.058</td>\n",
       "      <td>0.063</td>\n",
       "      <td>-0.285</td>\n",
       "      <td>-0.15</td>\n",
       "      <td>-0.188</td>\n",
       "      <td>-0.115</td>\n",
       "      <td>0.261</td>\n",
       "      <td>0.232</td>\n",
       "      <td>-0.007</td>\n",
       "      <td>-</td>\n",
       "      <td>***</td>\n",
       "      <td>***</td>\n",
       "    </tr>\n",
       "    <tr>\n",
       "      <td>Exp.Grat</td>\n",
       "      <td>0.043</td>\n",
       "      <td>0.046</td>\n",
       "      <td>-0.293</td>\n",
       "      <td>-0.082</td>\n",
       "      <td>-0.175</td>\n",
       "      <td>-0.003</td>\n",
       "      <td>0.279</td>\n",
       "      <td>0.059</td>\n",
       "      <td>-0.102</td>\n",
       "      <td>0.601</td>\n",
       "      <td>-</td>\n",
       "      <td>***</td>\n",
       "    </tr>\n",
       "    <tr>\n",
       "      <td>Comportamiento</td>\n",
       "      <td>0.087</td>\n",
       "      <td>0.012</td>\n",
       "      <td>-0.157</td>\n",
       "      <td>-0.06</td>\n",
       "      <td>-0.091</td>\n",
       "      <td>0.006</td>\n",
       "      <td>0.253</td>\n",
       "      <td>0.112</td>\n",
       "      <td>0.372</td>\n",
       "      <td>0.834</td>\n",
       "      <td>0.723</td>\n",
       "      <td>-</td>\n",
       "    </tr>\n",
       "  </tbody>\n",
       "</table>\n",
       "</div>"
      ],
      "text/plain": [
       "               Gratitud Ingratitud Emoción Serenidad Simpatía Sat.Personal  \\\n",
       "Gratitud              -        ***     ***                  *                \n",
       "Ingratitud         0.37          -                                           \n",
       "Emoción           0.248       0.04       -       ***      ***          ***   \n",
       "Serenidad         0.026      0.125   0.436         -      ***                \n",
       "Simpatía          0.188     -0.034   0.611     0.256        -                \n",
       "Sat.Personal      0.154       0.14   0.306     0.165     0.16            -   \n",
       "Emoci.Act Grat   -0.036      0.208  -0.286    -0.054   -0.145       -0.263   \n",
       "Actitud Grat     -0.055      0.033  -0.086    -0.189   -0.024       -0.097   \n",
       "Defect.Comp       0.071     -0.074   0.274     0.157    0.184        0.164   \n",
       "Rituales          0.058      0.063  -0.285     -0.15   -0.188       -0.115   \n",
       "Exp.Grat          0.043      0.046  -0.293    -0.082   -0.175       -0.003   \n",
       "Comportamiento    0.087      0.012  -0.157     -0.06   -0.091        0.006   \n",
       "\n",
       "               Emoci.Act Grat Actitud Grat Defect.Comp Rituales Exp.Grat  \\\n",
       "Gratitud                                                                   \n",
       "Ingratitud                 **                                              \n",
       "Emoción                   ***                      ***      ***      ***   \n",
       "Serenidad                                *                                 \n",
       "Simpatía                                             *        *            \n",
       "Sat.Personal              ***                                              \n",
       "Emoci.Act Grat              -          ***                  ***      ***   \n",
       "Actitud Grat            0.248            -                   **            \n",
       "Defect.Comp            -0.087       -0.079           -                     \n",
       "Rituales                0.261        0.232      -0.007        -      ***   \n",
       "Exp.Grat                0.279        0.059      -0.102    0.601        -   \n",
       "Comportamiento          0.253        0.112       0.372    0.834    0.723   \n",
       "\n",
       "               Comportamiento  \n",
       "Gratitud                       \n",
       "Ingratitud                     \n",
       "Emoción                        \n",
       "Serenidad                      \n",
       "Simpatía                       \n",
       "Sat.Personal                   \n",
       "Emoci.Act Grat            ***  \n",
       "Actitud Grat                   \n",
       "Defect.Comp               ***  \n",
       "Rituales                  ***  \n",
       "Exp.Grat                  ***  \n",
       "Comportamiento              -  "
      ]
     },
     "execution_count": 768,
     "metadata": {},
     "output_type": "execute_result"
    }
   ],
   "source": [
    "# df2.pairwise_corr(method='spearman',padjust='holm')\n",
    "df2.rcorr(method='spearman',padjust='holm')"
   ]
  },
  {
   "cell_type": "markdown",
   "metadata": {},
   "source": [
    "Genero la matriz de correlación"
   ]
  },
  {
   "cell_type": "code",
   "execution_count": 765,
   "metadata": {
    "scrolled": true
   },
   "outputs": [
    {
     "data": {
      "text/plain": [
       "[Text(0.5, 0, 'Gratitud'),\n",
       " Text(1.5, 0, 'Ingratitud'),\n",
       " Text(2.5, 0, 'Emoción'),\n",
       " Text(3.5, 0, 'Serenidad'),\n",
       " Text(4.5, 0, 'Simpatía'),\n",
       " Text(5.5, 0, 'Sat.Personal'),\n",
       " Text(6.5, 0, 'Emoci.Act Grat'),\n",
       " Text(7.5, 0, 'Actitud Grat'),\n",
       " Text(8.5, 0, 'Defect.Comp'),\n",
       " Text(9.5, 0, 'Rituales'),\n",
       " Text(10.5, 0, 'Exp.Grat'),\n",
       " Text(11.5, 0, 'Comportamiento')]"
      ]
     },
     "execution_count": 765,
     "metadata": {},
     "output_type": "execute_result"
    },
    {
     "data": {
      "image/png": "[encoded data removed]",
      "text/plain": [
       "<Figure size 1440x1152 with 2 Axes>"
      ]
     },
     "metadata": {
      "needs_background": "light"
     },
     "output_type": "display_data"
    }
   ],
   "source": [
    "fig, ax = plt.subplots(figsize=(20,16))  \n",
    "\n",
    "heatmap = sns.heatmap(df2.corr(), vmin=-1, vmax=1, fmt='.2f', cbar_kws={\"shrink\": .7}, square = False, linewidths=.5, annot=True)\n",
    "heatmap.set_title('Gratitude Heatmap', fontdict={'fontsize':17}, pad=12)\n",
    "bottom, top = ax.get_ylim()\n",
    "ax.set_ylim(bottom + 0.6, top - 0.6)\n",
    "\n",
    "ax.set_yticklabels(labels = ['Gratitud','Ingratitud','Emoción','Serenidad', 'Simpatía', 'Sat.Personal', 'Emoci.Act Grat', 'Actitud Grat', 'Defect.Comp', 'Rituales', 'Exp.Grat', 'Comportamiento'], rotation= 20, size = 14)\n",
    "ax.set_xticklabels(labels = ['Gratitud','Ingratitud','Emoción','Serenidad', 'Simpatía', 'Sat.Personal', 'Emoci.Act Grat', 'Actitud Grat', 'Defect.Comp', 'Rituales', 'Exp.Grat', 'Comportamiento'], rotation =20, size = 14)"
   ]
  },
  {
   "cell_type": "markdown",
   "metadata": {},
   "source": [
    "\n",
    "<a href='#Ir a inicio'> Ir a inicio </a>"
   ]
  }
 ],
 "metadata": {
  "kernelspec": {
   "display_name": "Python 3",
   "language": "python",
   "name": "python3"
  },
  "language_info": {
   "codemirror_mode": {
    "name": "ipython",
    "version": 3
   },
   "file_extension": ".py",
   "mimetype": "text/x-python",
   "name": "python",
   "nbconvert_exporter": "python",
   "pygments_lexer": "ipython3",
   "version": "3.7.4"
  }
 },
 "nbformat": 4,
 "nbformat_minor": 2
}
